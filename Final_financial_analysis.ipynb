{
  "nbformat": 4,
  "nbformat_minor": 0,
  "metadata": {
    "colab": {
      "name": "Untitled21.ipynb",
      "provenance": [],
      "collapsed_sections": [],
      "include_colab_link": true
    },
    "kernelspec": {
      "name": "python3",
      "display_name": "Python 3"
    },
    "language_info": {
      "name": "python"
    }
  },
  "cells": [
    {
      "cell_type": "markdown",
      "metadata": {
        "id": "view-in-github",
        "colab_type": "text"
      },
      "source": [
        "<a href=\"https://colab.research.google.com/github/TarelkinaAnastasia/Project/blob/main/Final_financial_analysis.ipynb\" target=\"_parent\"><img src=\"https://colab.research.google.com/assets/colab-badge.svg\" alt=\"Open In Colab\"/></a>"
      ]
    },
    {
      "cell_type": "code",
      "execution_count": null,
      "metadata": {
        "id": "gAJy5nwpN2H0"
      },
      "outputs": [],
      "source": [
        "import pandas as pd\n",
        "import requests"
      ]
    },
    {
      "cell_type": "code",
      "source": [
        "data1 = pd.read_csv(\"/content/data1.csv\")\n",
        "data2 = pd.read_csv(\"/content/data2.csv\")\n",
        "data3 = pd.read_csv(\"/content/data3.csv\")\n",
        "data4 = pd.read_csv(\"/content/data4.csv\")\n",
        "data5 = pd.read_csv(\"/content/data5.csv\")\n",
        "data6 = pd.read_csv(\"/content/data6.csv\")\n",
        "data7 = pd.read_csv(\"/content/data7.csv\")\n",
        "data8 = pd.read_csv(\"/content/data8.csv\")\n",
        "data9 = pd.read_csv(\"/content/data9.csv\")\n",
        "data10 = pd.read_csv(\"/content/data10.csv\")\n"
      ],
      "metadata": {
        "id": "RlXbPOhZOXMo"
      },
      "execution_count": null,
      "outputs": []
    },
    {
      "cell_type": "code",
      "source": [
        ""
      ],
      "metadata": {
        "id": "Vd9973FqmppZ"
      },
      "execution_count": null,
      "outputs": []
    },
    {
      "cell_type": "code",
      "source": [
        "data1 = data1.drop('Unnamed: 0', axis = 1)\n",
        "data2 = data2.drop('Unnamed: 0', axis = 1)\n",
        "data3 = data3.drop('Unnamed: 0', axis = 1)\n",
        "data4 = data4.drop('Unnamed: 0', axis = 1)\n",
        "data5 = data5.drop('Unnamed: 0', axis = 1)\n",
        "data6 = data6.drop('Unnamed: 0', axis = 1)\n",
        "data7 = data7.drop('Unnamed: 0', axis = 1)\n",
        "data8 = data8.drop('Unnamed: 0', axis = 1)\n",
        "data9 = data9.drop('Unnamed: 0', axis = 1)\n",
        "data10 = data10.drop('Unnamed: 0', axis = 1)\n"
      ],
      "metadata": {
        "id": "_oe7AOPTjsnH"
      },
      "execution_count": null,
      "outputs": []
    },
    {
      "cell_type": "code",
      "source": [
        "data = pd.concat([data1, data3,data2,data4,data5,data6,data7,data8,data9,data10], ignore_index = True)"
      ],
      "metadata": {
        "id": "mT7svkA_O8HA"
      },
      "execution_count": null,
      "outputs": []
    },
    {
      "cell_type": "code",
      "source": [
        "data.head()"
      ],
      "metadata": {
        "colab": {
          "base_uri": "https://localhost:8080/",
          "height": 444
        },
        "id": "lXZvB1IcPMWs",
        "outputId": "fc60bc06-d1e0-4340-c22f-31b8e3a0067e"
      },
      "execution_count": null,
      "outputs": [
        {
          "output_type": "execute_result",
          "data": {
            "text/plain": [
              "        NCAV                              Name                 P/E Ticker  \\\n",
              "0   2.999204          Agilent Technologies Inc   32.25987596694215      A   \n",
              "1  17.457624                         Alcoa Inc  27.731841491841493     AA   \n",
              "2        NaN  Asia Automotive Acquisition Corp                 NaN  AAACU   \n",
              "3        NaN                Asia Broadband Inc                 NaN   AABB   \n",
              "4        NaN        Access Anytime Bancorp Inc                 NaN   AABC   \n",
              "\n",
              "   currentPrice    earnings  floatShares     marketCap      revenue  \\\n",
              "0      130.5500  1210000000  298079080.0  3.903445e+10   6319000000   \n",
              "1       64.5000   429000000  183530132.0  1.189696e+10  12152000000   \n",
              "2           NaN         NaN          NaN           NaN          NaN   \n",
              "3        0.0744         NaN          NaN  3.062654e+07          NaN   \n",
              "4           NaN         NaN          NaN           NaN          NaN   \n",
              "\n",
              "            sector  totalCurrentAssets     totalDebt  \n",
              "0       Healthcare        3.799000e+09  2.905000e+09  \n",
              "1  Basic Materials        5.026000e+09  1.822000e+09  \n",
              "2              NaN                 NaN           NaN  \n",
              "3  Basic Materials                 NaN  8.708090e+05  \n",
              "4              NaN                 NaN           NaN  "
            ],
            "text/html": [
              "\n",
              "  <div id=\"df-bc6833d1-e2b4-4205-874d-74e0ee278eef\">\n",
              "    <div class=\"colab-df-container\">\n",
              "      <div>\n",
              "<style scoped>\n",
              "    .dataframe tbody tr th:only-of-type {\n",
              "        vertical-align: middle;\n",
              "    }\n",
              "\n",
              "    .dataframe tbody tr th {\n",
              "        vertical-align: top;\n",
              "    }\n",
              "\n",
              "    .dataframe thead th {\n",
              "        text-align: right;\n",
              "    }\n",
              "</style>\n",
              "<table border=\"1\" class=\"dataframe\">\n",
              "  <thead>\n",
              "    <tr style=\"text-align: right;\">\n",
              "      <th></th>\n",
              "      <th>NCAV</th>\n",
              "      <th>Name</th>\n",
              "      <th>P/E</th>\n",
              "      <th>Ticker</th>\n",
              "      <th>currentPrice</th>\n",
              "      <th>earnings</th>\n",
              "      <th>floatShares</th>\n",
              "      <th>marketCap</th>\n",
              "      <th>revenue</th>\n",
              "      <th>sector</th>\n",
              "      <th>totalCurrentAssets</th>\n",
              "      <th>totalDebt</th>\n",
              "    </tr>\n",
              "  </thead>\n",
              "  <tbody>\n",
              "    <tr>\n",
              "      <th>0</th>\n",
              "      <td>2.999204</td>\n",
              "      <td>Agilent Technologies Inc</td>\n",
              "      <td>32.25987596694215</td>\n",
              "      <td>A</td>\n",
              "      <td>130.5500</td>\n",
              "      <td>1210000000</td>\n",
              "      <td>298079080.0</td>\n",
              "      <td>3.903445e+10</td>\n",
              "      <td>6319000000</td>\n",
              "      <td>Healthcare</td>\n",
              "      <td>3.799000e+09</td>\n",
              "      <td>2.905000e+09</td>\n",
              "    </tr>\n",
              "    <tr>\n",
              "      <th>1</th>\n",
              "      <td>17.457624</td>\n",
              "      <td>Alcoa Inc</td>\n",
              "      <td>27.731841491841493</td>\n",
              "      <td>AA</td>\n",
              "      <td>64.5000</td>\n",
              "      <td>429000000</td>\n",
              "      <td>183530132.0</td>\n",
              "      <td>1.189696e+10</td>\n",
              "      <td>12152000000</td>\n",
              "      <td>Basic Materials</td>\n",
              "      <td>5.026000e+09</td>\n",
              "      <td>1.822000e+09</td>\n",
              "    </tr>\n",
              "    <tr>\n",
              "      <th>2</th>\n",
              "      <td>NaN</td>\n",
              "      <td>Asia Automotive Acquisition Corp</td>\n",
              "      <td>NaN</td>\n",
              "      <td>AAACU</td>\n",
              "      <td>NaN</td>\n",
              "      <td>NaN</td>\n",
              "      <td>NaN</td>\n",
              "      <td>NaN</td>\n",
              "      <td>NaN</td>\n",
              "      <td>NaN</td>\n",
              "      <td>NaN</td>\n",
              "      <td>NaN</td>\n",
              "    </tr>\n",
              "    <tr>\n",
              "      <th>3</th>\n",
              "      <td>NaN</td>\n",
              "      <td>Asia Broadband Inc</td>\n",
              "      <td>NaN</td>\n",
              "      <td>AABB</td>\n",
              "      <td>0.0744</td>\n",
              "      <td>NaN</td>\n",
              "      <td>NaN</td>\n",
              "      <td>3.062654e+07</td>\n",
              "      <td>NaN</td>\n",
              "      <td>Basic Materials</td>\n",
              "      <td>NaN</td>\n",
              "      <td>8.708090e+05</td>\n",
              "    </tr>\n",
              "    <tr>\n",
              "      <th>4</th>\n",
              "      <td>NaN</td>\n",
              "      <td>Access Anytime Bancorp Inc</td>\n",
              "      <td>NaN</td>\n",
              "      <td>AABC</td>\n",
              "      <td>NaN</td>\n",
              "      <td>NaN</td>\n",
              "      <td>NaN</td>\n",
              "      <td>NaN</td>\n",
              "      <td>NaN</td>\n",
              "      <td>NaN</td>\n",
              "      <td>NaN</td>\n",
              "      <td>NaN</td>\n",
              "    </tr>\n",
              "  </tbody>\n",
              "</table>\n",
              "</div>\n",
              "      <button class=\"colab-df-convert\" onclick=\"convertToInteractive('df-bc6833d1-e2b4-4205-874d-74e0ee278eef')\"\n",
              "              title=\"Convert this dataframe to an interactive table.\"\n",
              "              style=\"display:none;\">\n",
              "        \n",
              "  <svg xmlns=\"http://www.w3.org/2000/svg\" height=\"24px\"viewBox=\"0 0 24 24\"\n",
              "       width=\"24px\">\n",
              "    <path d=\"M0 0h24v24H0V0z\" fill=\"none\"/>\n",
              "    <path d=\"M18.56 5.44l.94 2.06.94-2.06 2.06-.94-2.06-.94-.94-2.06-.94 2.06-2.06.94zm-11 1L8.5 8.5l.94-2.06 2.06-.94-2.06-.94L8.5 2.5l-.94 2.06-2.06.94zm10 10l.94 2.06.94-2.06 2.06-.94-2.06-.94-.94-2.06-.94 2.06-2.06.94z\"/><path d=\"M17.41 7.96l-1.37-1.37c-.4-.4-.92-.59-1.43-.59-.52 0-1.04.2-1.43.59L10.3 9.45l-7.72 7.72c-.78.78-.78 2.05 0 2.83L4 21.41c.39.39.9.59 1.41.59.51 0 1.02-.2 1.41-.59l7.78-7.78 2.81-2.81c.8-.78.8-2.07 0-2.86zM5.41 20L4 18.59l7.72-7.72 1.47 1.35L5.41 20z\"/>\n",
              "  </svg>\n",
              "      </button>\n",
              "      \n",
              "  <style>\n",
              "    .colab-df-container {\n",
              "      display:flex;\n",
              "      flex-wrap:wrap;\n",
              "      gap: 12px;\n",
              "    }\n",
              "\n",
              "    .colab-df-convert {\n",
              "      background-color: #E8F0FE;\n",
              "      border: none;\n",
              "      border-radius: 50%;\n",
              "      cursor: pointer;\n",
              "      display: none;\n",
              "      fill: #1967D2;\n",
              "      height: 32px;\n",
              "      padding: 0 0 0 0;\n",
              "      width: 32px;\n",
              "    }\n",
              "\n",
              "    .colab-df-convert:hover {\n",
              "      background-color: #E2EBFA;\n",
              "      box-shadow: 0px 1px 2px rgba(60, 64, 67, 0.3), 0px 1px 3px 1px rgba(60, 64, 67, 0.15);\n",
              "      fill: #174EA6;\n",
              "    }\n",
              "\n",
              "    [theme=dark] .colab-df-convert {\n",
              "      background-color: #3B4455;\n",
              "      fill: #D2E3FC;\n",
              "    }\n",
              "\n",
              "    [theme=dark] .colab-df-convert:hover {\n",
              "      background-color: #434B5C;\n",
              "      box-shadow: 0px 1px 3px 1px rgba(0, 0, 0, 0.15);\n",
              "      filter: drop-shadow(0px 1px 2px rgba(0, 0, 0, 0.3));\n",
              "      fill: #FFFFFF;\n",
              "    }\n",
              "  </style>\n",
              "\n",
              "      <script>\n",
              "        const buttonEl =\n",
              "          document.querySelector('#df-bc6833d1-e2b4-4205-874d-74e0ee278eef button.colab-df-convert');\n",
              "        buttonEl.style.display =\n",
              "          google.colab.kernel.accessAllowed ? 'block' : 'none';\n",
              "\n",
              "        async function convertToInteractive(key) {\n",
              "          const element = document.querySelector('#df-bc6833d1-e2b4-4205-874d-74e0ee278eef');\n",
              "          const dataTable =\n",
              "            await google.colab.kernel.invokeFunction('convertToInteractive',\n",
              "                                                     [key], {});\n",
              "          if (!dataTable) return;\n",
              "\n",
              "          const docLinkHtml = 'Like what you see? Visit the ' +\n",
              "            '<a target=\"_blank\" href=https://colab.research.google.com/notebooks/data_table.ipynb>data table notebook</a>'\n",
              "            + ' to learn more about interactive tables.';\n",
              "          element.innerHTML = '';\n",
              "          dataTable['output_type'] = 'display_data';\n",
              "          await google.colab.output.renderOutput(dataTable, element);\n",
              "          const docLink = document.createElement('div');\n",
              "          docLink.innerHTML = docLinkHtml;\n",
              "          element.appendChild(docLink);\n",
              "        }\n",
              "      </script>\n",
              "    </div>\n",
              "  </div>\n",
              "  "
            ]
          },
          "metadata": {},
          "execution_count": 5
        }
      ]
    },
    {
      "cell_type": "code",
      "source": [
        "data = data.dropna()"
      ],
      "metadata": {
        "id": "B8yiuxdTPyWW"
      },
      "execution_count": null,
      "outputs": []
    },
    {
      "cell_type": "code",
      "source": [
        "data.reset_index(inplace = True)"
      ],
      "metadata": {
        "id": "vKvvJJwwS5JJ"
      },
      "execution_count": null,
      "outputs": []
    },
    {
      "cell_type": "code",
      "source": [
        "\n",
        "data = data.drop([\"index\"], axis = \"columns\")"
      ],
      "metadata": {
        "id": "0CDD5NBSQVX8"
      },
      "execution_count": null,
      "outputs": []
    },
    {
      "cell_type": "markdown",
      "source": [
        "NSAV - коэф Грэма\n",
        "\n",
        "P/E - соотношение цена и прибыль\n",
        "\n",
        "float shares - количество эмитированных акций в свободной продаже\n",
        "\n",
        "market cap - капитализация\n",
        "\n",
        "revenue - выручка\n",
        "\n",
        "total current assets - совокупная стоимость активов\n",
        "\n",
        "earnings - прибыль\n",
        "\n",
        "total debt - общая задолженность\n",
        "\n",
        "\n",
        "\n"
      ],
      "metadata": {
        "id": "tm0Zf2s_TwYa"
      }
    },
    {
      "cell_type": "code",
      "source": [
        "data[\"P/E\"][23]"
      ],
      "metadata": {
        "id": "ZeVnZRFgc-N4",
        "colab": {
          "base_uri": "https://localhost:8080/",
          "height": 35
        },
        "outputId": "f7538e06-9230-4620-c150-41bd52bdd67c"
      },
      "execution_count": null,
      "outputs": [
        {
          "output_type": "execute_result",
          "data": {
            "text/plain": [
              "'-16.42465774706618'"
            ],
            "application/vnd.google.colaboratory.intrinsic+json": {
              "type": "string"
            }
          },
          "metadata": {},
          "execution_count": 9
        }
      ]
    },
    {
      "cell_type": "code",
      "source": [
        "data[\"P/E\"] = pd.to_numeric(data[\"P/E\"], errors = 'coerce')"
      ],
      "metadata": {
        "id": "C_dync1jcbrO"
      },
      "execution_count": null,
      "outputs": []
    },
    {
      "cell_type": "code",
      "source": [
        "#ration - соотношение\n",
        "data[\"ration\"] = list(data[\"currentPrice\"]*100/(data[\"NCAV\"]))"
      ],
      "metadata": {
        "id": "meGPd2xyZ3bp"
      },
      "execution_count": null,
      "outputs": []
    },
    {
      "cell_type": "code",
      "source": [
        "\n",
        "import numpy as np\n",
        "from scipy.stats import norm\n",
        "import matplotlib.pyplot as plt"
      ],
      "metadata": {
        "id": "mkDQmtXWnsKJ"
      },
      "execution_count": null,
      "outputs": []
    },
    {
      "cell_type": "code",
      "source": [
        ""
      ],
      "metadata": {
        "id": "QBaQ7oeFsTba"
      },
      "execution_count": null,
      "outputs": []
    },
    {
      "cell_type": "code",
      "source": [
        "\n",
        "# ncav_without_outliers = data[pd.DataFrame([data['NCAV'] >= -150, data['NCAV'] <= 150]).all()]['NCAV']\n",
        "# mu, std = norm.fit(data['NCAV']) \n",
        "  \n",
        "plt.figure(figsize=(12, 9))\n",
        "# рисуем гистограмму\n",
        "plt.hist(data['NCAV'], bins=150, density=True, alpha=0.6, color='b')\n",
        "  \n",
        "# # рисуем теоретическую функцию плотности нормального распределения с подобранными параметрами\n",
        "# xmin, xmax = plt.xlim()\n",
        "# x = np.linspace(xmin, xmax, 100)\n",
        "# p = norm.pdf(x, mu, std)\n",
        "  \n",
        "# plt.plot(x, p, 'k', linewidth=2)\n",
        "# title = \"Fit Values: {:.2f} and {:.2f}\".format(mu, std)\n",
        "# plt.title(title)\n",
        "  \n",
        "plt.show()"
      ],
      "metadata": {
        "colab": {
          "base_uri": "https://localhost:8080/",
          "height": 537
        },
        "id": "ie8eyDYQnp8s",
        "outputId": "dddac824-ac77-4427-ce3f-74e1c0c0843e"
      },
      "execution_count": null,
      "outputs": [
        {
          "output_type": "display_data",
          "data": {
            "text/plain": [
              "<Figure size 864x648 with 1 Axes>"
            ],
            "image/png": "[encoded data removed]"
          },
          "metadata": {
            "needs_background": "light"
          }
        }
      ]
    },
    {
      "cell_type": "code",
      "source": [
        "#количество компаний - соотношение"
      ],
      "metadata": {
        "id": "sel2KFFfaV-F"
      },
      "execution_count": null,
      "outputs": []
    },
    {
      "cell_type": "code",
      "source": [
        "plt.figure(figsize=(12, 9))\n",
        "# рисуем гистограмму\n",
        "_ = plt.hist(data['ration'], bins=150, density=True, alpha=0.6, color='b')"
      ],
      "metadata": {
        "colab": {
          "base_uri": "https://localhost:8080/",
          "height": 561
        },
        "id": "HPfkTPLovanL",
        "outputId": "8b79f523-781b-4178-fad8-579ec74dd48b"
      },
      "execution_count": null,
      "outputs": [
        {
          "output_type": "display_data",
          "data": {
            "text/plain": [
              "<Figure size 864x648 with 1 Axes>"
            ],
            "image/png": "[encoded data removed]"
          },
          "metadata": {
            "needs_background": "light"
          }
        }
      ]
    },
    {
      "cell_type": "code",
      "source": [
        "data.loc[data[\"ration\"] < 60, 'cluster'] = 'heavily_underrated'\n",
        "data.loc[pd.DataFrame([data[\"ration\"] >= 60, data[\"ration\"] <= 75]).all(), 'cluster'] = 'underrated'\n",
        "data.loc[data[\"ration\"] > 75, 'cluster'] = 'overrated'"
      ],
      "metadata": {
        "id": "wfKoBAC4vd-f"
      },
      "execution_count": null,
      "outputs": []
    },
    {
      "cell_type": "code",
      "source": [
        "data.head()"
      ],
      "metadata": {
        "colab": {
          "base_uri": "https://localhost:8080/",
          "height": 409
        },
        "id": "XKC_b6DzzCZ7",
        "outputId": "2fcd2350-86a9-4e72-9cc2-ccda6902e54e"
      },
      "execution_count": null,
      "outputs": [
        {
          "output_type": "execute_result",
          "data": {
            "text/plain": [
              "        NCAV                         Name        P/E Ticker  currentPrice  \\\n",
              "0   2.999204     Agilent Technologies Inc  32.259876      A        130.55   \n",
              "1  17.457624                    Alcoa Inc  27.731841     AA         64.50   \n",
              "2 -44.288297  American Airlines Group Inc  -5.908533    AAL         18.13   \n",
              "3   6.718847       Atlantic American Corp  13.154388   AAME          2.76   \n",
              "4  18.440591                   Aarons Inc   5.259944    AAN         18.83   \n",
              "\n",
              "      earnings  floatShares     marketCap      revenue              sector  \\\n",
              "0   1210000000  298079080.0  3.903445e+10   6319000000          Healthcare   \n",
              "1    429000000  183530132.0  1.189696e+10  12152000000     Basic Materials   \n",
              "2  -1993000000  644097894.0  1.177571e+10  29882000000         Industrials   \n",
              "3      4281000    4344942.0  5.631394e+07    199554000  Financial Services   \n",
              "4    109934000   30204563.0  5.782467e+08   1845504000   Consumer Cyclical   \n",
              "\n",
              "   totalCurrentAssets     totalDebt       ration             cluster  \n",
              "0        3.799000e+09  2.905000e+09  4352.821153           overrated  \n",
              "1        5.026000e+09  1.822000e+09   369.466090           overrated  \n",
              "2        1.733600e+10  4.586200e+10   -40.936323  heavily_underrated  \n",
              "3        6.712800e+07  3.793500e+07    41.078477  heavily_underrated  \n",
              "4        8.749740e+08  3.179840e+08   102.111693           overrated  "
            ],
            "text/html": [
              "\n",
              "  <div id=\"df-050a9f0f-86a4-4b82-8851-6d7460eb017f\">\n",
              "    <div class=\"colab-df-container\">\n",
              "      <div>\n",
              "<style scoped>\n",
              "    .dataframe tbody tr th:only-of-type {\n",
              "        vertical-align: middle;\n",
              "    }\n",
              "\n",
              "    .dataframe tbody tr th {\n",
              "        vertical-align: top;\n",
              "    }\n",
              "\n",
              "    .dataframe thead th {\n",
              "        text-align: right;\n",
              "    }\n",
              "</style>\n",
              "<table border=\"1\" class=\"dataframe\">\n",
              "  <thead>\n",
              "    <tr style=\"text-align: right;\">\n",
              "      <th></th>\n",
              "      <th>NCAV</th>\n",
              "      <th>Name</th>\n",
              "      <th>P/E</th>\n",
              "      <th>Ticker</th>\n",
              "      <th>currentPrice</th>\n",
              "      <th>earnings</th>\n",
              "      <th>floatShares</th>\n",
              "      <th>marketCap</th>\n",
              "      <th>revenue</th>\n",
              "      <th>sector</th>\n",
              "      <th>totalCurrentAssets</th>\n",
              "      <th>totalDebt</th>\n",
              "      <th>ration</th>\n",
              "      <th>cluster</th>\n",
              "    </tr>\n",
              "  </thead>\n",
              "  <tbody>\n",
              "    <tr>\n",
              "      <th>0</th>\n",
              "      <td>2.999204</td>\n",
              "      <td>Agilent Technologies Inc</td>\n",
              "      <td>32.259876</td>\n",
              "      <td>A</td>\n",
              "      <td>130.55</td>\n",
              "      <td>1210000000</td>\n",
              "      <td>298079080.0</td>\n",
              "      <td>3.903445e+10</td>\n",
              "      <td>6319000000</td>\n",
              "      <td>Healthcare</td>\n",
              "      <td>3.799000e+09</td>\n",
              "      <td>2.905000e+09</td>\n",
              "      <td>4352.821153</td>\n",
              "      <td>overrated</td>\n",
              "    </tr>\n",
              "    <tr>\n",
              "      <th>1</th>\n",
              "      <td>17.457624</td>\n",
              "      <td>Alcoa Inc</td>\n",
              "      <td>27.731841</td>\n",
              "      <td>AA</td>\n",
              "      <td>64.50</td>\n",
              "      <td>429000000</td>\n",
              "      <td>183530132.0</td>\n",
              "      <td>1.189696e+10</td>\n",
              "      <td>12152000000</td>\n",
              "      <td>Basic Materials</td>\n",
              "      <td>5.026000e+09</td>\n",
              "      <td>1.822000e+09</td>\n",
              "      <td>369.466090</td>\n",
              "      <td>overrated</td>\n",
              "    </tr>\n",
              "    <tr>\n",
              "      <th>2</th>\n",
              "      <td>-44.288297</td>\n",
              "      <td>American Airlines Group Inc</td>\n",
              "      <td>-5.908533</td>\n",
              "      <td>AAL</td>\n",
              "      <td>18.13</td>\n",
              "      <td>-1993000000</td>\n",
              "      <td>644097894.0</td>\n",
              "      <td>1.177571e+10</td>\n",
              "      <td>29882000000</td>\n",
              "      <td>Industrials</td>\n",
              "      <td>1.733600e+10</td>\n",
              "      <td>4.586200e+10</td>\n",
              "      <td>-40.936323</td>\n",
              "      <td>heavily_underrated</td>\n",
              "    </tr>\n",
              "    <tr>\n",
              "      <th>3</th>\n",
              "      <td>6.718847</td>\n",
              "      <td>Atlantic American Corp</td>\n",
              "      <td>13.154388</td>\n",
              "      <td>AAME</td>\n",
              "      <td>2.76</td>\n",
              "      <td>4281000</td>\n",
              "      <td>4344942.0</td>\n",
              "      <td>5.631394e+07</td>\n",
              "      <td>199554000</td>\n",
              "      <td>Financial Services</td>\n",
              "      <td>6.712800e+07</td>\n",
              "      <td>3.793500e+07</td>\n",
              "      <td>41.078477</td>\n",
              "      <td>heavily_underrated</td>\n",
              "    </tr>\n",
              "    <tr>\n",
              "      <th>4</th>\n",
              "      <td>18.440591</td>\n",
              "      <td>Aarons Inc</td>\n",
              "      <td>5.259944</td>\n",
              "      <td>AAN</td>\n",
              "      <td>18.83</td>\n",
              "      <td>109934000</td>\n",
              "      <td>30204563.0</td>\n",
              "      <td>5.782467e+08</td>\n",
              "      <td>1845504000</td>\n",
              "      <td>Consumer Cyclical</td>\n",
              "      <td>8.749740e+08</td>\n",
              "      <td>3.179840e+08</td>\n",
              "      <td>102.111693</td>\n",
              "      <td>overrated</td>\n",
              "    </tr>\n",
              "  </tbody>\n",
              "</table>\n",
              "</div>\n",
              "      <button class=\"colab-df-convert\" onclick=\"convertToInteractive('df-050a9f0f-86a4-4b82-8851-6d7460eb017f')\"\n",
              "              title=\"Convert this dataframe to an interactive table.\"\n",
              "              style=\"display:none;\">\n",
              "        \n",
              "  <svg xmlns=\"http://www.w3.org/2000/svg\" height=\"24px\"viewBox=\"0 0 24 24\"\n",
              "       width=\"24px\">\n",
              "    <path d=\"M0 0h24v24H0V0z\" fill=\"none\"/>\n",
              "    <path d=\"M18.56 5.44l.94 2.06.94-2.06 2.06-.94-2.06-.94-.94-2.06-.94 2.06-2.06.94zm-11 1L8.5 8.5l.94-2.06 2.06-.94-2.06-.94L8.5 2.5l-.94 2.06-2.06.94zm10 10l.94 2.06.94-2.06 2.06-.94-2.06-.94-.94-2.06-.94 2.06-2.06.94z\"/><path d=\"M17.41 7.96l-1.37-1.37c-.4-.4-.92-.59-1.43-.59-.52 0-1.04.2-1.43.59L10.3 9.45l-7.72 7.72c-.78.78-.78 2.05 0 2.83L4 21.41c.39.39.9.59 1.41.59.51 0 1.02-.2 1.41-.59l7.78-7.78 2.81-2.81c.8-.78.8-2.07 0-2.86zM5.41 20L4 18.59l7.72-7.72 1.47 1.35L5.41 20z\"/>\n",
              "  </svg>\n",
              "      </button>\n",
              "      \n",
              "  <style>\n",
              "    .colab-df-container {\n",
              "      display:flex;\n",
              "      flex-wrap:wrap;\n",
              "      gap: 12px;\n",
              "    }\n",
              "\n",
              "    .colab-df-convert {\n",
              "      background-color: #E8F0FE;\n",
              "      border: none;\n",
              "      border-radius: 50%;\n",
              "      cursor: pointer;\n",
              "      display: none;\n",
              "      fill: #1967D2;\n",
              "      height: 32px;\n",
              "      padding: 0 0 0 0;\n",
              "      width: 32px;\n",
              "    }\n",
              "\n",
              "    .colab-df-convert:hover {\n",
              "      background-color: #E2EBFA;\n",
              "      box-shadow: 0px 1px 2px rgba(60, 64, 67, 0.3), 0px 1px 3px 1px rgba(60, 64, 67, 0.15);\n",
              "      fill: #174EA6;\n",
              "    }\n",
              "\n",
              "    [theme=dark] .colab-df-convert {\n",
              "      background-color: #3B4455;\n",
              "      fill: #D2E3FC;\n",
              "    }\n",
              "\n",
              "    [theme=dark] .colab-df-convert:hover {\n",
              "      background-color: #434B5C;\n",
              "      box-shadow: 0px 1px 3px 1px rgba(0, 0, 0, 0.15);\n",
              "      filter: drop-shadow(0px 1px 2px rgba(0, 0, 0, 0.3));\n",
              "      fill: #FFFFFF;\n",
              "    }\n",
              "  </style>\n",
              "\n",
              "      <script>\n",
              "        const buttonEl =\n",
              "          document.querySelector('#df-050a9f0f-86a4-4b82-8851-6d7460eb017f button.colab-df-convert');\n",
              "        buttonEl.style.display =\n",
              "          google.colab.kernel.accessAllowed ? 'block' : 'none';\n",
              "\n",
              "        async function convertToInteractive(key) {\n",
              "          const element = document.querySelector('#df-050a9f0f-86a4-4b82-8851-6d7460eb017f');\n",
              "          const dataTable =\n",
              "            await google.colab.kernel.invokeFunction('convertToInteractive',\n",
              "                                                     [key], {});\n",
              "          if (!dataTable) return;\n",
              "\n",
              "          const docLinkHtml = 'Like what you see? Visit the ' +\n",
              "            '<a target=\"_blank\" href=https://colab.research.google.com/notebooks/data_table.ipynb>data table notebook</a>'\n",
              "            + ' to learn more about interactive tables.';\n",
              "          element.innerHTML = '';\n",
              "          dataTable['output_type'] = 'display_data';\n",
              "          await google.colab.output.renderOutput(dataTable, element);\n",
              "          const docLink = document.createElement('div');\n",
              "          docLink.innerHTML = docLinkHtml;\n",
              "          element.appendChild(docLink);\n",
              "        }\n",
              "      </script>\n",
              "    </div>\n",
              "  </div>\n",
              "  "
            ]
          },
          "metadata": {},
          "execution_count": 20
        }
      ]
    },
    {
      "cell_type": "code",
      "source": [
        "data['cluster'].hist()"
      ],
      "metadata": {
        "id": "pgnDbP3R0IOA",
        "outputId": "6f472a40-1eec-4c8b-a191-ca6b1d815182",
        "colab": {
          "base_uri": "https://localhost:8080/",
          "height": 283
        }
      },
      "execution_count": null,
      "outputs": [
        {
          "output_type": "execute_result",
          "data": {
            "text/plain": [
              "<matplotlib.axes._subplots.AxesSubplot at 0x7f52523fc110>"
            ]
          },
          "metadata": {},
          "execution_count": 18
        },
        {
          "output_type": "display_data",
          "data": {
            "text/plain": [
              "<Figure size 432x288 with 1 Axes>"
            ],
            "image/png": "[encoded data removed]"
          },
          "metadata": {
            "needs_background": "light"
          }
        }
      ]
    },
    {
      "cell_type": "markdown",
      "source": [
        "Количество тикеров в группировке по секторам и кластерам"
      ],
      "metadata": {
        "id": "PjuoWa7oQrjV"
      }
    },
    {
      "cell_type": "code",
      "source": [
        "data.groupby(['sector', 'cluster']).aggregate({'Name' : 'count'})"
      ],
      "metadata": {
        "colab": {
          "base_uri": "https://localhost:8080/",
          "height": 1000
        },
        "id": "HcOU38F1PnrW",
        "outputId": "e8e34b48-bc58-463a-ec09-2df5825a8b47"
      },
      "execution_count": null,
      "outputs": [
        {
          "output_type": "execute_result",
          "data": {
            "text/plain": [
              "                                           Name\n",
              "sector                 cluster                 \n",
              "Basic Materials        heavily_underrated    45\n",
              "                       overrated             57\n",
              "                       underrated             1\n",
              "Communication Services heavily_underrated    42\n",
              "                       overrated             31\n",
              "                       underrated             1\n",
              "Consumer Cyclical      heavily_underrated   135\n",
              "                       overrated             99\n",
              "                       underrated             7\n",
              "Consumer Defensive     heavily_underrated    49\n",
              "                       overrated             39\n",
              "                       underrated             3\n",
              "Energy                 heavily_underrated    74\n",
              "                       overrated             43\n",
              "                       underrated             3\n",
              "Financial Services     heavily_underrated   202\n",
              "                       overrated            189\n",
              "                       underrated            20\n",
              "Healthcare             heavily_underrated   125\n",
              "                       overrated            217\n",
              "                       underrated            11\n",
              "Industrial Goods       heavily_underrated     1\n",
              "Industrials            heavily_underrated   124\n",
              "                       overrated            172\n",
              "                       underrated             7\n",
              "Real Estate            heavily_underrated   123\n",
              "                       overrated             19\n",
              "                       underrated             2\n",
              "Services               overrated              1\n",
              "Technology             heavily_underrated    98\n",
              "                       overrated            199\n",
              "                       underrated             9\n",
              "Utilities              heavily_underrated    56\n",
              "                       overrated              5"
            ],
            "text/html": [
              "\n",
              "  <div id=\"df-561faaf6-bef3-42b6-b138-6532bcd62c34\">\n",
              "    <div class=\"colab-df-container\">\n",
              "      <div>\n",
              "<style scoped>\n",
              "    .dataframe tbody tr th:only-of-type {\n",
              "        vertical-align: middle;\n",
              "    }\n",
              "\n",
              "    .dataframe tbody tr th {\n",
              "        vertical-align: top;\n",
              "    }\n",
              "\n",
              "    .dataframe thead th {\n",
              "        text-align: right;\n",
              "    }\n",
              "</style>\n",
              "<table border=\"1\" class=\"dataframe\">\n",
              "  <thead>\n",
              "    <tr style=\"text-align: right;\">\n",
              "      <th></th>\n",
              "      <th></th>\n",
              "      <th>Name</th>\n",
              "    </tr>\n",
              "    <tr>\n",
              "      <th>sector</th>\n",
              "      <th>cluster</th>\n",
              "      <th></th>\n",
              "    </tr>\n",
              "  </thead>\n",
              "  <tbody>\n",
              "    <tr>\n",
              "      <th rowspan=\"3\" valign=\"top\">Basic Materials</th>\n",
              "      <th>heavily_underrated</th>\n",
              "      <td>45</td>\n",
              "    </tr>\n",
              "    <tr>\n",
              "      <th>overrated</th>\n",
              "      <td>57</td>\n",
              "    </tr>\n",
              "    <tr>\n",
              "      <th>underrated</th>\n",
              "      <td>1</td>\n",
              "    </tr>\n",
              "    <tr>\n",
              "      <th rowspan=\"3\" valign=\"top\">Communication Services</th>\n",
              "      <th>heavily_underrated</th>\n",
              "      <td>42</td>\n",
              "    </tr>\n",
              "    <tr>\n",
              "      <th>overrated</th>\n",
              "      <td>31</td>\n",
              "    </tr>\n",
              "    <tr>\n",
              "      <th>underrated</th>\n",
              "      <td>1</td>\n",
              "    </tr>\n",
              "    <tr>\n",
              "      <th rowspan=\"3\" valign=\"top\">Consumer Cyclical</th>\n",
              "      <th>heavily_underrated</th>\n",
              "      <td>135</td>\n",
              "    </tr>\n",
              "    <tr>\n",
              "      <th>overrated</th>\n",
              "      <td>99</td>\n",
              "    </tr>\n",
              "    <tr>\n",
              "      <th>underrated</th>\n",
              "      <td>7</td>\n",
              "    </tr>\n",
              "    <tr>\n",
              "      <th rowspan=\"3\" valign=\"top\">Consumer Defensive</th>\n",
              "      <th>heavily_underrated</th>\n",
              "      <td>49</td>\n",
              "    </tr>\n",
              "    <tr>\n",
              "      <th>overrated</th>\n",
              "      <td>39</td>\n",
              "    </tr>\n",
              "    <tr>\n",
              "      <th>underrated</th>\n",
              "      <td>3</td>\n",
              "    </tr>\n",
              "    <tr>\n",
              "      <th rowspan=\"3\" valign=\"top\">Energy</th>\n",
              "      <th>heavily_underrated</th>\n",
              "      <td>74</td>\n",
              "    </tr>\n",
              "    <tr>\n",
              "      <th>overrated</th>\n",
              "      <td>43</td>\n",
              "    </tr>\n",
              "    <tr>\n",
              "      <th>underrated</th>\n",
              "      <td>3</td>\n",
              "    </tr>\n",
              "    <tr>\n",
              "      <th rowspan=\"3\" valign=\"top\">Financial Services</th>\n",
              "      <th>heavily_underrated</th>\n",
              "      <td>202</td>\n",
              "    </tr>\n",
              "    <tr>\n",
              "      <th>overrated</th>\n",
              "      <td>189</td>\n",
              "    </tr>\n",
              "    <tr>\n",
              "      <th>underrated</th>\n",
              "      <td>20</td>\n",
              "    </tr>\n",
              "    <tr>\n",
              "      <th rowspan=\"3\" valign=\"top\">Healthcare</th>\n",
              "      <th>heavily_underrated</th>\n",
              "      <td>125</td>\n",
              "    </tr>\n",
              "    <tr>\n",
              "      <th>overrated</th>\n",
              "      <td>217</td>\n",
              "    </tr>\n",
              "    <tr>\n",
              "      <th>underrated</th>\n",
              "      <td>11</td>\n",
              "    </tr>\n",
              "    <tr>\n",
              "      <th>Industrial Goods</th>\n",
              "      <th>heavily_underrated</th>\n",
              "      <td>1</td>\n",
              "    </tr>\n",
              "    <tr>\n",
              "      <th rowspan=\"3\" valign=\"top\">Industrials</th>\n",
              "      <th>heavily_underrated</th>\n",
              "      <td>124</td>\n",
              "    </tr>\n",
              "    <tr>\n",
              "      <th>overrated</th>\n",
              "      <td>172</td>\n",
              "    </tr>\n",
              "    <tr>\n",
              "      <th>underrated</th>\n",
              "      <td>7</td>\n",
              "    </tr>\n",
              "    <tr>\n",
              "      <th rowspan=\"3\" valign=\"top\">Real Estate</th>\n",
              "      <th>heavily_underrated</th>\n",
              "      <td>123</td>\n",
              "    </tr>\n",
              "    <tr>\n",
              "      <th>overrated</th>\n",
              "      <td>19</td>\n",
              "    </tr>\n",
              "    <tr>\n",
              "      <th>underrated</th>\n",
              "      <td>2</td>\n",
              "    </tr>\n",
              "    <tr>\n",
              "      <th>Services</th>\n",
              "      <th>overrated</th>\n",
              "      <td>1</td>\n",
              "    </tr>\n",
              "    <tr>\n",
              "      <th rowspan=\"3\" valign=\"top\">Technology</th>\n",
              "      <th>heavily_underrated</th>\n",
              "      <td>98</td>\n",
              "    </tr>\n",
              "    <tr>\n",
              "      <th>overrated</th>\n",
              "      <td>199</td>\n",
              "    </tr>\n",
              "    <tr>\n",
              "      <th>underrated</th>\n",
              "      <td>9</td>\n",
              "    </tr>\n",
              "    <tr>\n",
              "      <th rowspan=\"2\" valign=\"top\">Utilities</th>\n",
              "      <th>heavily_underrated</th>\n",
              "      <td>56</td>\n",
              "    </tr>\n",
              "    <tr>\n",
              "      <th>overrated</th>\n",
              "      <td>5</td>\n",
              "    </tr>\n",
              "  </tbody>\n",
              "</table>\n",
              "</div>\n",
              "      <button class=\"colab-df-convert\" onclick=\"convertToInteractive('df-561faaf6-bef3-42b6-b138-6532bcd62c34')\"\n",
              "              title=\"Convert this dataframe to an interactive table.\"\n",
              "              style=\"display:none;\">\n",
              "        \n",
              "  <svg xmlns=\"http://www.w3.org/2000/svg\" height=\"24px\"viewBox=\"0 0 24 24\"\n",
              "       width=\"24px\">\n",
              "    <path d=\"M0 0h24v24H0V0z\" fill=\"none\"/>\n",
              "    <path d=\"M18.56 5.44l.94 2.06.94-2.06 2.06-.94-2.06-.94-.94-2.06-.94 2.06-2.06.94zm-11 1L8.5 8.5l.94-2.06 2.06-.94-2.06-.94L8.5 2.5l-.94 2.06-2.06.94zm10 10l.94 2.06.94-2.06 2.06-.94-2.06-.94-.94-2.06-.94 2.06-2.06.94z\"/><path d=\"M17.41 7.96l-1.37-1.37c-.4-.4-.92-.59-1.43-.59-.52 0-1.04.2-1.43.59L10.3 9.45l-7.72 7.72c-.78.78-.78 2.05 0 2.83L4 21.41c.39.39.9.59 1.41.59.51 0 1.02-.2 1.41-.59l7.78-7.78 2.81-2.81c.8-.78.8-2.07 0-2.86zM5.41 20L4 18.59l7.72-7.72 1.47 1.35L5.41 20z\"/>\n",
              "  </svg>\n",
              "      </button>\n",
              "      \n",
              "  <style>\n",
              "    .colab-df-container {\n",
              "      display:flex;\n",
              "      flex-wrap:wrap;\n",
              "      gap: 12px;\n",
              "    }\n",
              "\n",
              "    .colab-df-convert {\n",
              "      background-color: #E8F0FE;\n",
              "      border: none;\n",
              "      border-radius: 50%;\n",
              "      cursor: pointer;\n",
              "      display: none;\n",
              "      fill: #1967D2;\n",
              "      height: 32px;\n",
              "      padding: 0 0 0 0;\n",
              "      width: 32px;\n",
              "    }\n",
              "\n",
              "    .colab-df-convert:hover {\n",
              "      background-color: #E2EBFA;\n",
              "      box-shadow: 0px 1px 2px rgba(60, 64, 67, 0.3), 0px 1px 3px 1px rgba(60, 64, 67, 0.15);\n",
              "      fill: #174EA6;\n",
              "    }\n",
              "\n",
              "    [theme=dark] .colab-df-convert {\n",
              "      background-color: #3B4455;\n",
              "      fill: #D2E3FC;\n",
              "    }\n",
              "\n",
              "    [theme=dark] .colab-df-convert:hover {\n",
              "      background-color: #434B5C;\n",
              "      box-shadow: 0px 1px 3px 1px rgba(0, 0, 0, 0.15);\n",
              "      filter: drop-shadow(0px 1px 2px rgba(0, 0, 0, 0.3));\n",
              "      fill: #FFFFFF;\n",
              "    }\n",
              "  </style>\n",
              "\n",
              "      <script>\n",
              "        const buttonEl =\n",
              "          document.querySelector('#df-561faaf6-bef3-42b6-b138-6532bcd62c34 button.colab-df-convert');\n",
              "        buttonEl.style.display =\n",
              "          google.colab.kernel.accessAllowed ? 'block' : 'none';\n",
              "\n",
              "        async function convertToInteractive(key) {\n",
              "          const element = document.querySelector('#df-561faaf6-bef3-42b6-b138-6532bcd62c34');\n",
              "          const dataTable =\n",
              "            await google.colab.kernel.invokeFunction('convertToInteractive',\n",
              "                                                     [key], {});\n",
              "          if (!dataTable) return;\n",
              "\n",
              "          const docLinkHtml = 'Like what you see? Visit the ' +\n",
              "            '<a target=\"_blank\" href=https://colab.research.google.com/notebooks/data_table.ipynb>data table notebook</a>'\n",
              "            + ' to learn more about interactive tables.';\n",
              "          element.innerHTML = '';\n",
              "          dataTable['output_type'] = 'display_data';\n",
              "          await google.colab.output.renderOutput(dataTable, element);\n",
              "          const docLink = document.createElement('div');\n",
              "          docLink.innerHTML = docLinkHtml;\n",
              "          element.appendChild(docLink);\n",
              "        }\n",
              "      </script>\n",
              "    </div>\n",
              "  </div>\n",
              "  "
            ]
          },
          "metadata": {},
          "execution_count": 155
        }
      ]
    },
    {
      "cell_type": "code",
      "source": [
        "\n"
      ],
      "metadata": {
        "id": "h3eyz3dQ2Mht"
      },
      "execution_count": null,
      "outputs": []
    },
    {
      "cell_type": "code",
      "source": [
        "def show_clusters(data, title):\n",
        "    clusters = plt.subplot()\n",
        "    plt.figure(figsize=(12, 9))\n",
        "    clusters.hist(data.cluster)\n",
        "    clusters.set_title(title)\n",
        "    plt.show()"
      ],
      "metadata": {
        "id": "1P7wdURGrgvU"
      },
      "execution_count": null,
      "outputs": []
    },
    {
      "cell_type": "code",
      "source": [
        "total = plt.subplot()\n",
        "plt.figure(figsize=(12, 9))\n",
        "total.hist(data['NCAV'], bins=100, range=(-100, 100), color=(0.6, 0.0, 0.4))\n",
        "total.set_title('Total NCAV')\n",
        "plt.show()\n",
        "\n",
        "show_clusters(data, \"Total clusters\")\n",
        "for u in data.sector.unique():\n",
        "    data_sector = data.loc[data.sector == u]\n",
        "    show_clusters(data_sector, u + \" cluster\")\n",
        "\n",
        "pd.set_option('display.max_rows', None)\n",
        "pd.set_option('display.max_columns', None)\n",
        "pd.set_option('display.max_colwidth', None)\n",
        "#print(data)\n",
        "print(\"Underrated companies:\")\n",
        "print(data.loc[data[\"cluster\"] == \"underrated\"][\"Name\"])"
      ],
      "metadata": {
        "id": "4tvPd2rg0LEi",
        "colab": {
          "base_uri": "https://localhost:8080/",
          "height": 1000
        },
        "outputId": "f864533a-5c44-46ce-fd6e-80f7e4ed17e9"
      },
      "execution_count": null,
      "outputs": [
        {
          "output_type": "display_data",
          "data": {
            "text/plain": [
              "<Figure size 432x288 with 1 Axes>"
            ],
            "image/png": "[encoded data removed]"
          },
          "metadata": {
            "needs_background": "light"
          }
        },
        {
          "output_type": "display_data",
          "data": {
            "text/plain": [
              "<Figure size 864x648 with 0 Axes>"
            ]
          },
          "metadata": {}
        },
        {
          "output_type": "display_data",
          "data": {
            "text/plain": [
              "<Figure size 432x288 with 1 Axes>"
            ],
            "image/png": "[encoded data removed]"
          },
          "metadata": {
            "needs_background": "light"
          }
        },
        {
          "output_type": "display_data",
          "data": {
            "text/plain": [
              "<Figure size 864x648 with 0 Axes>"
            ]
          },
          "metadata": {}
        },
        {
          "output_type": "display_data",
          "data": {
            "text/plain": [
              "<Figure size 432x288 with 1 Axes>"
            ],
            "image/png": "[encoded data removed]"
          },
          "metadata": {
            "needs_background": "light"
          }
        },
        {
          "output_type": "display_data",
          "data": {
            "text/plain": [
              "<Figure size 864x648 with 0 Axes>"
            ]
          },
          "metadata": {}
        },
        {
          "output_type": "display_data",
          "data": {
            "text/plain": [
              "<Figure size 432x288 with 1 Axes>"
            ],
            "image/png": "[encoded data removed]"
          },
          "metadata": {
            "needs_background": "light"
          }
        },
        {
          "output_type": "display_data",
          "data": {
            "text/plain": [
              "<Figure size 864x648 with 0 Axes>"
            ]
          },
          "metadata": {}
        },
        {
          "output_type": "display_data",
          "data": {
            "text/plain": [
              "<Figure size 432x288 with 1 Axes>"
            ],
            "image/png": "[encoded data removed]"
          },
          "metadata": {
            "needs_background": "light"
          }
        },
        {
          "output_type": "display_data",
          "data": {
            "text/plain": [
              "<Figure size 864x648 with 0 Axes>"
            ]
          },
          "metadata": {}
        },
        {
          "output_type": "display_data",
          "data": {
            "text/plain": [
              "<Figure size 432x288 with 1 Axes>"
            ],
            "image/png": "[encoded data removed]"
          },
          "metadata": {
            "needs_background": "light"
          }
        },
        {
          "output_type": "display_data",
          "data": {
            "text/plain": [
              "<Figure size 864x648 with 0 Axes>"
            ]
          },
          "metadata": {}
        },
        {
          "output_type": "display_data",
          "data": {
            "text/plain": [
              "<Figure size 432x288 with 1 Axes>"
            ],
            "image/png": "[encoded data removed]"
          },
          "metadata": {
            "needs_background": "light"
          }
        },
        {
          "output_type": "display_data",
          "data": {
            "text/plain": [
              "<Figure size 864x648 with 0 Axes>"
            ]
          },
          "metadata": {}
        },
        {
          "output_type": "display_data",
          "data": {
            "text/plain": [
              "<Figure size 432x288 with 1 Axes>"
            ],
            "image/png": "[encoded data removed]"
          },
          "metadata": {
            "needs_background": "light"
          }
        },
        {
          "output_type": "display_data",
          "data": {
            "text/plain": [
              "<Figure size 864x648 with 0 Axes>"
            ]
          },
          "metadata": {}
        },
        {
          "output_type": "display_data",
          "data": {
            "text/plain": [
              "<Figure size 432x288 with 1 Axes>"
            ],
            "image/png": "[encoded data removed]"
          },
          "metadata": {
            "needs_background": "light"
          }
        },
        {
          "output_type": "display_data",
          "data": {
            "text/plain": [
              "<Figure size 864x648 with 0 Axes>"
            ]
          },
          "metadata": {}
        },
        {
          "output_type": "display_data",
          "data": {
            "text/plain": [
              "<Figure size 432x288 with 1 Axes>"
            ],
            "image/png": "[encoded data removed]"
          },
          "metadata": {
            "needs_background": "light"
          }
        },
        {
          "output_type": "display_data",
          "data": {
            "text/plain": [
              "<Figure size 864x648 with 0 Axes>"
            ]
          },
          "metadata": {}
        },
        {
          "output_type": "display_data",
          "data": {
            "text/plain": [
              "<Figure size 432x288 with 1 Axes>"
            ],
            "image/png": "[encoded data removed]"
          },
          "metadata": {
            "needs_background": "light"
          }
        },
        {
          "output_type": "display_data",
          "data": {
            "text/plain": [
              "<Figure size 864x648 with 0 Axes>"
            ]
          },
          "metadata": {}
        },
        {
          "output_type": "display_data",
          "data": {
            "text/plain": [
              "<Figure size 432x288 with 1 Axes>"
            ],
            "image/png": "[encoded data removed]"
          },
          "metadata": {
            "needs_background": "light"
          }
        },
        {
          "output_type": "display_data",
          "data": {
            "text/plain": [
              "<Figure size 864x648 with 0 Axes>"
            ]
          },
          "metadata": {}
        },
        {
          "output_type": "display_data",
          "data": {
            "text/plain": [
              "<Figure size 432x288 with 1 Axes>"
            ],
            "image/png": "[encoded data removed]"
          },
          "metadata": {
            "needs_background": "light"
          }
        },
        {
          "output_type": "display_data",
          "data": {
            "text/plain": [
              "<Figure size 864x648 with 0 Axes>"
            ]
          },
          "metadata": {}
        },
        {
          "output_type": "display_data",
          "data": {
            "text/plain": [
              "<Figure size 432x288 with 1 Axes>"
            ],
            "image/png": "[encoded data removed]"
          },
          "metadata": {
            "needs_background": "light"
          }
        },
        {
          "output_type": "display_data",
          "data": {
            "text/plain": [
              "<Figure size 864x648 with 0 Axes>"
            ]
          },
          "metadata": {}
        },
        {
          "output_type": "display_data",
          "data": {
            "text/plain": [
              "<Figure size 432x288 with 1 Axes>"
            ],
            "image/png": "[encoded data removed]"
          },
          "metadata": {
            "needs_background": "light"
          }
        },
        {
          "output_type": "display_data",
          "data": {
            "text/plain": [
              "<Figure size 864x648 with 0 Axes>"
            ]
          },
          "metadata": {}
        },
        {
          "output_type": "stream",
          "name": "stdout",
          "text": [
            "Underrated companies:\n",
            "13                                  Ameris Bancorp\n",
            "35                      Ac Moore Arts & Crafts Inc\n",
            "68      American Equity Investment Life Holding Co\n",
            "76               Addvantage Technologies Group Inc\n",
            "91                      Apria Healthcare Group Inc\n",
            "97                  Allied Healthcare Products Inc\n",
            "99                American International Group Inc\n",
            "239                          Arrow Electronics Inc\n",
            "295                             CNB Financial Corp\n",
            "324                           C & F Financial Corp\n",
            "453                 Cumberland Pharmaceuticals Inc\n",
            "477                      Creditriskmonitor Com Inc\n",
            "543                         Abraxas Petroleum Corp\n",
            "547                                     Amrep Corp\n",
            "567                                Blockbuster Inc\n",
            "663                           Bridgford Foods Corp\n",
            "666                 Bio Reference Laboratories Inc\n",
            "667                        Barnwell Industries Inc\n",
            "694                           Beazer Homes USA Inc\n",
            "703                            Cardinal Health Inc\n",
            "716                                        CSP Inc\n",
            "804                                       Dell Inc\n",
            "912                                    Ehealth Inc\n",
            "918                            Electro Sensors Inc\n",
            "956                                    Embarq Corp\n",
            "977                               Essa Bancorp Inc\n",
            "1024                          First Bancshares Inc\n",
            "1029                First Community Bancshares Inc\n",
            "1043                 Forum Energy Technologies Inc\n",
            "1045                               Futurefuel Corp\n",
            "1054                   First Horizon National Corp\n",
            "1077                      Flexsteel Industries Inc\n",
            "1114                         1ST State Bancorp Inc\n",
            "1115                  FSB Community Bankshares Inc\n",
            "1125                                 Fuel Tech Inc\n",
            "1137                           First National Corp\n",
            "1195                       Guaranty Bancshares Inc\n",
            "1264                                 Hci Group Inc\n",
            "1279                               Harte Hanks Inc\n",
            "1284                        Hill International Inc\n",
            "1295                             HMN Financial Inc\n",
            "1341                    Hyperfeed Technologies Inc\n",
            "1347                                      Ibio Inc\n",
            "1462                                   Intevac Inc\n",
            "1497                         Coffee Holding Co Inc\n",
            "1507                      Kewaunee Scientific Corp\n",
            "1531                              Eastman Kodak Co\n",
            "1586                           Lifeline Systems Co\n",
            "1587                        Life Technologies Corp\n",
            "1588                          Lifeline Systems Inc\n",
            "1689                              MDC Holdings Inc\n",
            "1707                             Mfa Financial Inc\n",
            "1715                               Macrogenics Inc\n",
            "1723                                 M I Homes Inc\n",
            "1782                            Marin Software Inc\n",
            "1808                                 Mannatech Inc\n",
            "1914                            Nobility Homes Inc\n",
            "1946                                   Netgear Inc\n",
            "1950                       Netsol Technologies Inc\n",
            "1951                           Northeast Utilities\n",
            "2025                    Optex Systems Holdings Inc\n",
            "2036                        Orion Marine Group Inc\n",
            "2139                    Water Pik Technologies Inc\n",
            "2182                   Pioneer Power Solutions Inc\n",
            "Name: Name, dtype: object\n"
          ]
        }
      ]
    },
    {
      "cell_type": "code",
      "source": [
        "cluster1 = data[data[\"cluster\"] == \"overrated\"]\n",
        "cluster2 = data[data[\"cluster\"] == \"heavily_underrated\"]\n",
        "cluster3 = data[data[\"cluster\"] == \"underrated\"]"
      ],
      "metadata": {
        "id": "lxBEsl-HJVj1"
      },
      "execution_count": 34,
      "outputs": []
    },
    {
      "cell_type": "code",
      "source": [
        "cluster1"
      ],
      "metadata": {
        "colab": {
          "base_uri": "https://localhost:8080/",
          "height": 658
        },
        "id": "I84hLxhfLTtZ",
        "outputId": "4a2f4bbc-23b5-4cb6-a8cd-2498ed6c7587"
      },
      "execution_count": 33,
      "outputs": [
        {
          "output_type": "execute_result",
          "data": {
            "text/plain": [
              "           NCAV                              Name         P/E Ticker  \\\n",
              "0      2.999204          Agilent Technologies Inc   32.259876      A   \n",
              "1     17.457624                         Alcoa Inc   27.731841     AA   \n",
              "4     18.440591                        Aarons Inc    5.259944    AAN   \n",
              "5      1.509531       Applied Optoelectronics Inc   -1.147977   AAOI   \n",
              "6      3.233840                          Aaon Inc   47.969833   AAON   \n",
              "...         ...                               ...         ...    ...   \n",
              "2199   1.093527  Provident Financial Holdings Inc   14.686796   PROV   \n",
              "2200  24.337083                 Prothena Corp PLC   19.611486   PRTA   \n",
              "2202   2.769951         US Auto Parts Network Inc -260.167149   PRTS   \n",
              "2204   2.116928       Powder River Basin Gas Corp   -2.259584   PRVB   \n",
              "2207   3.302387             PS Business Parks Inc   11.517915    PSB   \n",
              "\n",
              "      currentPrice    earnings  floatShares     marketCap      revenue  \\\n",
              "0           130.55  1210000000  298079080.0  3.903445e+10   6319000000   \n",
              "1            64.50   429000000  183530132.0  1.189696e+10  12152000000   \n",
              "4            18.83   109934000   30204563.0  5.782467e+08   1845504000   \n",
              "5             2.25   -54162000   26620188.0  6.217672e+07    211565000   \n",
              "6            53.11    58758000   42079076.0  2.818611e+09    534517000   \n",
              "...            ...         ...          ...           ...          ...   \n",
              "2199         14.90     7561000    5907489.0  1.110469e+08     35920000   \n",
              "2200         28.19    66975000   23523074.0  1.313479e+09    200577000   \n",
              "2202          7.89    -1513000   44120999.0  3.936329e+08    443884000   \n",
              "2204          4.08  -114432000   47418246.0  2.585688e+08      1395000   \n",
              "2207        187.61   448759000   20162687.0  5.168768e+09    438703000   \n",
              "\n",
              "                  sector  totalCurrentAssets     totalDebt       ration  \\\n",
              "0             Healthcare        3.799000e+09  2.905000e+09  4352.821153   \n",
              "1        Basic Materials        5.026000e+09  1.822000e+09   369.466090   \n",
              "4      Consumer Cyclical        8.749740e+08  3.179840e+08   102.111693   \n",
              "5             Technology        1.940790e+08  1.538950e+08   149.052944   \n",
              "6            Industrials        2.180800e+08  8.200300e+07  1642.319956   \n",
              "...                  ...                 ...           ...          ...   \n",
              "2199  Financial Services        8.646000e+07  8.000000e+07  1362.563252   \n",
              "2200          Healthcare        5.848090e+08  1.232600e+07   115.831467   \n",
              "2202   Consumer Cyclical        1.686020e+08  4.638900e+07   284.842596   \n",
              "2204          Healthcare        1.010960e+08  7.150000e+05   192.732134   \n",
              "2207         Real Estate        9.988500e+07  3.330000e+07  5681.041838   \n",
              "\n",
              "        cluster  \n",
              "0     overrated  \n",
              "1     overrated  \n",
              "4     overrated  \n",
              "5     overrated  \n",
              "6     overrated  \n",
              "...         ...  \n",
              "2199  overrated  \n",
              "2200  overrated  \n",
              "2202  overrated  \n",
              "2204  overrated  \n",
              "2207  overrated  \n",
              "\n",
              "[1071 rows x 14 columns]"
            ],
            "text/html": [
              "\n",
              "  <div id=\"df-015c25cd-a6ad-48f4-8ab1-41ef48c07a97\">\n",
              "    <div class=\"colab-df-container\">\n",
              "      <div>\n",
              "<style scoped>\n",
              "    .dataframe tbody tr th:only-of-type {\n",
              "        vertical-align: middle;\n",
              "    }\n",
              "\n",
              "    .dataframe tbody tr th {\n",
              "        vertical-align: top;\n",
              "    }\n",
              "\n",
              "    .dataframe thead th {\n",
              "        text-align: right;\n",
              "    }\n",
              "</style>\n",
              "<table border=\"1\" class=\"dataframe\">\n",
              "  <thead>\n",
              "    <tr style=\"text-align: right;\">\n",
              "      <th></th>\n",
              "      <th>NCAV</th>\n",
              "      <th>Name</th>\n",
              "      <th>P/E</th>\n",
              "      <th>Ticker</th>\n",
              "      <th>currentPrice</th>\n",
              "      <th>earnings</th>\n",
              "      <th>floatShares</th>\n",
              "      <th>marketCap</th>\n",
              "      <th>revenue</th>\n",
              "      <th>sector</th>\n",
              "      <th>totalCurrentAssets</th>\n",
              "      <th>totalDebt</th>\n",
              "      <th>ration</th>\n",
              "      <th>cluster</th>\n",
              "    </tr>\n",
              "  </thead>\n",
              "  <tbody>\n",
              "    <tr>\n",
              "      <th>0</th>\n",
              "      <td>2.999204</td>\n",
              "      <td>Agilent Technologies Inc</td>\n",
              "      <td>32.259876</td>\n",
              "      <td>A</td>\n",
              "      <td>130.55</td>\n",
              "      <td>1210000000</td>\n",
              "      <td>298079080.0</td>\n",
              "      <td>3.903445e+10</td>\n",
              "      <td>6319000000</td>\n",
              "      <td>Healthcare</td>\n",
              "      <td>3.799000e+09</td>\n",
              "      <td>2.905000e+09</td>\n",
              "      <td>4352.821153</td>\n",
              "      <td>overrated</td>\n",
              "    </tr>\n",
              "    <tr>\n",
              "      <th>1</th>\n",
              "      <td>17.457624</td>\n",
              "      <td>Alcoa Inc</td>\n",
              "      <td>27.731841</td>\n",
              "      <td>AA</td>\n",
              "      <td>64.50</td>\n",
              "      <td>429000000</td>\n",
              "      <td>183530132.0</td>\n",
              "      <td>1.189696e+10</td>\n",
              "      <td>12152000000</td>\n",
              "      <td>Basic Materials</td>\n",
              "      <td>5.026000e+09</td>\n",
              "      <td>1.822000e+09</td>\n",
              "      <td>369.466090</td>\n",
              "      <td>overrated</td>\n",
              "    </tr>\n",
              "    <tr>\n",
              "      <th>4</th>\n",
              "      <td>18.440591</td>\n",
              "      <td>Aarons Inc</td>\n",
              "      <td>5.259944</td>\n",
              "      <td>AAN</td>\n",
              "      <td>18.83</td>\n",
              "      <td>109934000</td>\n",
              "      <td>30204563.0</td>\n",
              "      <td>5.782467e+08</td>\n",
              "      <td>1845504000</td>\n",
              "      <td>Consumer Cyclical</td>\n",
              "      <td>8.749740e+08</td>\n",
              "      <td>3.179840e+08</td>\n",
              "      <td>102.111693</td>\n",
              "      <td>overrated</td>\n",
              "    </tr>\n",
              "    <tr>\n",
              "      <th>5</th>\n",
              "      <td>1.509531</td>\n",
              "      <td>Applied Optoelectronics Inc</td>\n",
              "      <td>-1.147977</td>\n",
              "      <td>AAOI</td>\n",
              "      <td>2.25</td>\n",
              "      <td>-54162000</td>\n",
              "      <td>26620188.0</td>\n",
              "      <td>6.217672e+07</td>\n",
              "      <td>211565000</td>\n",
              "      <td>Technology</td>\n",
              "      <td>1.940790e+08</td>\n",
              "      <td>1.538950e+08</td>\n",
              "      <td>149.052944</td>\n",
              "      <td>overrated</td>\n",
              "    </tr>\n",
              "    <tr>\n",
              "      <th>6</th>\n",
              "      <td>3.233840</td>\n",
              "      <td>Aaon Inc</td>\n",
              "      <td>47.969833</td>\n",
              "      <td>AAON</td>\n",
              "      <td>53.11</td>\n",
              "      <td>58758000</td>\n",
              "      <td>42079076.0</td>\n",
              "      <td>2.818611e+09</td>\n",
              "      <td>534517000</td>\n",
              "      <td>Industrials</td>\n",
              "      <td>2.180800e+08</td>\n",
              "      <td>8.200300e+07</td>\n",
              "      <td>1642.319956</td>\n",
              "      <td>overrated</td>\n",
              "    </tr>\n",
              "    <tr>\n",
              "      <th>...</th>\n",
              "      <td>...</td>\n",
              "      <td>...</td>\n",
              "      <td>...</td>\n",
              "      <td>...</td>\n",
              "      <td>...</td>\n",
              "      <td>...</td>\n",
              "      <td>...</td>\n",
              "      <td>...</td>\n",
              "      <td>...</td>\n",
              "      <td>...</td>\n",
              "      <td>...</td>\n",
              "      <td>...</td>\n",
              "      <td>...</td>\n",
              "      <td>...</td>\n",
              "    </tr>\n",
              "    <tr>\n",
              "      <th>2199</th>\n",
              "      <td>1.093527</td>\n",
              "      <td>Provident Financial Holdings Inc</td>\n",
              "      <td>14.686796</td>\n",
              "      <td>PROV</td>\n",
              "      <td>14.90</td>\n",
              "      <td>7561000</td>\n",
              "      <td>5907489.0</td>\n",
              "      <td>1.110469e+08</td>\n",
              "      <td>35920000</td>\n",
              "      <td>Financial Services</td>\n",
              "      <td>8.646000e+07</td>\n",
              "      <td>8.000000e+07</td>\n",
              "      <td>1362.563252</td>\n",
              "      <td>overrated</td>\n",
              "    </tr>\n",
              "    <tr>\n",
              "      <th>2200</th>\n",
              "      <td>24.337083</td>\n",
              "      <td>Prothena Corp PLC</td>\n",
              "      <td>19.611486</td>\n",
              "      <td>PRTA</td>\n",
              "      <td>28.19</td>\n",
              "      <td>66975000</td>\n",
              "      <td>23523074.0</td>\n",
              "      <td>1.313479e+09</td>\n",
              "      <td>200577000</td>\n",
              "      <td>Healthcare</td>\n",
              "      <td>5.848090e+08</td>\n",
              "      <td>1.232600e+07</td>\n",
              "      <td>115.831467</td>\n",
              "      <td>overrated</td>\n",
              "    </tr>\n",
              "    <tr>\n",
              "      <th>2202</th>\n",
              "      <td>2.769951</td>\n",
              "      <td>US Auto Parts Network Inc</td>\n",
              "      <td>-260.167149</td>\n",
              "      <td>PRTS</td>\n",
              "      <td>7.89</td>\n",
              "      <td>-1513000</td>\n",
              "      <td>44120999.0</td>\n",
              "      <td>3.936329e+08</td>\n",
              "      <td>443884000</td>\n",
              "      <td>Consumer Cyclical</td>\n",
              "      <td>1.686020e+08</td>\n",
              "      <td>4.638900e+07</td>\n",
              "      <td>284.842596</td>\n",
              "      <td>overrated</td>\n",
              "    </tr>\n",
              "    <tr>\n",
              "      <th>2204</th>\n",
              "      <td>2.116928</td>\n",
              "      <td>Powder River Basin Gas Corp</td>\n",
              "      <td>-2.259584</td>\n",
              "      <td>PRVB</td>\n",
              "      <td>4.08</td>\n",
              "      <td>-114432000</td>\n",
              "      <td>47418246.0</td>\n",
              "      <td>2.585688e+08</td>\n",
              "      <td>1395000</td>\n",
              "      <td>Healthcare</td>\n",
              "      <td>1.010960e+08</td>\n",
              "      <td>7.150000e+05</td>\n",
              "      <td>192.732134</td>\n",
              "      <td>overrated</td>\n",
              "    </tr>\n",
              "    <tr>\n",
              "      <th>2207</th>\n",
              "      <td>3.302387</td>\n",
              "      <td>PS Business Parks Inc</td>\n",
              "      <td>11.517915</td>\n",
              "      <td>PSB</td>\n",
              "      <td>187.61</td>\n",
              "      <td>448759000</td>\n",
              "      <td>20162687.0</td>\n",
              "      <td>5.168768e+09</td>\n",
              "      <td>438703000</td>\n",
              "      <td>Real Estate</td>\n",
              "      <td>9.988500e+07</td>\n",
              "      <td>3.330000e+07</td>\n",
              "      <td>5681.041838</td>\n",
              "      <td>overrated</td>\n",
              "    </tr>\n",
              "  </tbody>\n",
              "</table>\n",
              "<p>1071 rows × 14 columns</p>\n",
              "</div>\n",
              "      <button class=\"colab-df-convert\" onclick=\"convertToInteractive('df-015c25cd-a6ad-48f4-8ab1-41ef48c07a97')\"\n",
              "              title=\"Convert this dataframe to an interactive table.\"\n",
              "              style=\"display:none;\">\n",
              "        \n",
              "  <svg xmlns=\"http://www.w3.org/2000/svg\" height=\"24px\"viewBox=\"0 0 24 24\"\n",
              "       width=\"24px\">\n",
              "    <path d=\"M0 0h24v24H0V0z\" fill=\"none\"/>\n",
              "    <path d=\"M18.56 5.44l.94 2.06.94-2.06 2.06-.94-2.06-.94-.94-2.06-.94 2.06-2.06.94zm-11 1L8.5 8.5l.94-2.06 2.06-.94-2.06-.94L8.5 2.5l-.94 2.06-2.06.94zm10 10l.94 2.06.94-2.06 2.06-.94-2.06-.94-.94-2.06-.94 2.06-2.06.94z\"/><path d=\"M17.41 7.96l-1.37-1.37c-.4-.4-.92-.59-1.43-.59-.52 0-1.04.2-1.43.59L10.3 9.45l-7.72 7.72c-.78.78-.78 2.05 0 2.83L4 21.41c.39.39.9.59 1.41.59.51 0 1.02-.2 1.41-.59l7.78-7.78 2.81-2.81c.8-.78.8-2.07 0-2.86zM5.41 20L4 18.59l7.72-7.72 1.47 1.35L5.41 20z\"/>\n",
              "  </svg>\n",
              "      </button>\n",
              "      \n",
              "  <style>\n",
              "    .colab-df-container {\n",
              "      display:flex;\n",
              "      flex-wrap:wrap;\n",
              "      gap: 12px;\n",
              "    }\n",
              "\n",
              "    .colab-df-convert {\n",
              "      background-color: #E8F0FE;\n",
              "      border: none;\n",
              "      border-radius: 50%;\n",
              "      cursor: pointer;\n",
              "      display: none;\n",
              "      fill: #1967D2;\n",
              "      height: 32px;\n",
              "      padding: 0 0 0 0;\n",
              "      width: 32px;\n",
              "    }\n",
              "\n",
              "    .colab-df-convert:hover {\n",
              "      background-color: #E2EBFA;\n",
              "      box-shadow: 0px 1px 2px rgba(60, 64, 67, 0.3), 0px 1px 3px 1px rgba(60, 64, 67, 0.15);\n",
              "      fill: #174EA6;\n",
              "    }\n",
              "\n",
              "    [theme=dark] .colab-df-convert {\n",
              "      background-color: #3B4455;\n",
              "      fill: #D2E3FC;\n",
              "    }\n",
              "\n",
              "    [theme=dark] .colab-df-convert:hover {\n",
              "      background-color: #434B5C;\n",
              "      box-shadow: 0px 1px 3px 1px rgba(0, 0, 0, 0.15);\n",
              "      filter: drop-shadow(0px 1px 2px rgba(0, 0, 0, 0.3));\n",
              "      fill: #FFFFFF;\n",
              "    }\n",
              "  </style>\n",
              "\n",
              "      <script>\n",
              "        const buttonEl =\n",
              "          document.querySelector('#df-015c25cd-a6ad-48f4-8ab1-41ef48c07a97 button.colab-df-convert');\n",
              "        buttonEl.style.display =\n",
              "          google.colab.kernel.accessAllowed ? 'block' : 'none';\n",
              "\n",
              "        async function convertToInteractive(key) {\n",
              "          const element = document.querySelector('#df-015c25cd-a6ad-48f4-8ab1-41ef48c07a97');\n",
              "          const dataTable =\n",
              "            await google.colab.kernel.invokeFunction('convertToInteractive',\n",
              "                                                     [key], {});\n",
              "          if (!dataTable) return;\n",
              "\n",
              "          const docLinkHtml = 'Like what you see? Visit the ' +\n",
              "            '<a target=\"_blank\" href=https://colab.research.google.com/notebooks/data_table.ipynb>data table notebook</a>'\n",
              "            + ' to learn more about interactive tables.';\n",
              "          element.innerHTML = '';\n",
              "          dataTable['output_type'] = 'display_data';\n",
              "          await google.colab.output.renderOutput(dataTable, element);\n",
              "          const docLink = document.createElement('div');\n",
              "          docLink.innerHTML = docLinkHtml;\n",
              "          element.appendChild(docLink);\n",
              "        }\n",
              "      </script>\n",
              "    </div>\n",
              "  </div>\n",
              "  "
            ]
          },
          "metadata": {},
          "execution_count": 33
        }
      ]
    },
    {
      "cell_type": "code",
      "source": [
        "fig = plt.figure(figsize=(12, 6))\n",
        "ax = fig.add_subplot(111)\n",
        "filtered_label1 = cluster1['NCAV']\n",
        "filtered_label2 = cluster1[\"currentPrice\"]\n",
        "plt.scatter(filtered_label1, filtered_label2,  color = 'red')\n",
        "filtered_label1 = cluster2['NCAV']\n",
        "filtered_label2 = cluster2[\"currentPrice\"]\n",
        "plt.scatter(filtered_label1, filtered_label2, color = 'blue')\n",
        "\n",
        "\n",
        "filtered_label1 = cluster3['NCAV']\n",
        "filtered_label2 = cluster3[\"currentPrice\"]\n",
        "plt.scatter(filtered_label1, filtered_label2, color = 'yellow')\n",
        "\n",
        "plt.legend([\"Overrated\", \"Heavily underrated\", \"Недооцененные\"])\n",
        "plt.title(\"График\")\n",
        "ax.set_xlim([-2000, 2000])\n",
        "ax.set_ylim([0, 2500])\n",
        "ax.set_facecolor('purple')\n",
        "fig.set_facecolor('green')\n",
        "plt.ylabel(\"Стоимость акции\")\n",
        "plt.xlabel(\"NCAV\")\n",
        "plt.show()\n",
        "print()\n",
        " \n"
      ],
      "metadata": {
        "id": "ArujXSvXbyuU",
        "colab": {
          "base_uri": "https://localhost:8080/",
          "height": 422
        },
        "outputId": "424af9f0-5504-4e43-ea43-ece5f10a3ddf"
      },
      "execution_count": 70,
      "outputs": [
        {
          "output_type": "display_data",
          "data": {
            "text/plain": [
              "<Figure size 864x432 with 1 Axes>"
            ],
            "image/png": "[encoded data removed]"
          },
          "metadata": {}
        },
        {
          "output_type": "stream",
          "name": "stdout",
          "text": [
            "\n"
          ]
        }
      ]
    },
    {
      "cell_type": "code",
      "source": [
        "data.sort_values('currentPrice').tail(10)\n"
      ],
      "metadata": {
        "colab": {
          "base_uri": "https://localhost:8080/",
          "height": 687
        },
        "id": "Fd9odyvII0-x",
        "outputId": "20ee497d-19d3-41ff-ef48-8ffee71c5042"
      },
      "execution_count": 73,
      "outputs": [
        {
          "output_type": "execute_result",
          "data": {
            "text/plain": [
              "             NCAV                              Name         P/E Ticker  \\\n",
              "1035  -151.487667     First Citizens Bancshares Inc   12.285856  FCNCA   \n",
              "1701    90.400361                  Mercadolibre Inc  491.506429   MELI   \n",
              "1083  1220.811107       Farmers & Merchants Bancorp   11.284144   FMCB   \n",
              "1806   -26.998093  Mettler Toledo International Inc   39.124133    MTD   \n",
              "387    -78.285705        Chipotle Mexican Grill Inc   60.426670    CMG   \n",
              "1733  1075.177223                       Markel Corp    7.912948    MKL   \n",
              "551   -118.064036                      Autozone Inc   18.539396    AZO   \n",
              "1202   277.859360                        Google Inc   19.693368   GOOG   \n",
              "184     31.253810                    Amazon Com Inc   35.114092   AMZN   \n",
              "1963  1043.006225                           NVR Inc   11.884232    NVR   \n",
              "\n",
              "      currentPrice      earnings  floatShares     marketCap       revenue  \\\n",
              "1035        693.83     547459000   12183038.0  6.726002e+09    1935171000   \n",
              "1701        811.44      83304000   46375378.0  4.094445e+10    7069409000   \n",
              "1083        947.95      66336000     589762.0  7.485450e+08     180082000   \n",
              "1806       1326.52   768985000.0   22325131.0  3.008587e+10  3717930000.0   \n",
              "387        1402.42   652984000.0   27758043.0  3.945765e+10  7547061000.0   \n",
              "1733       1403.91    2425003000   13306185.0  1.918892e+10   12846425000   \n",
              "551        2055.39    2170314000   19495151.0  4.023631e+10   14629585000   \n",
              "1202       2255.98   76033000000  574178968.0  1.497346e+12  257637000000   \n",
              "184        2302.93   33364000000  457960351.0  1.171547e+12  469822000000   \n",
              "1963       4467.76  1236719000.0    3201700.0  1.469746e+10  8966309000.0   \n",
              "\n",
              "                      sector  totalCurrentAssets     totalDebt       ration  \\\n",
              "1035      Financial Services        1.446420e+09  3.292000e+09  -458.010883   \n",
              "1701       Consumer Cyclical        8.174979e+09  3.982628e+09   897.607037   \n",
              "1083      Financial Services        7.344310e+08  1.444300e+07    77.649195   \n",
              "1806              Healthcare        1.269358e+09  1.872094e+09 -4913.384157   \n",
              "387        Consumer Cyclical        1.381564e+09  3.554622e+09 -1791.412633   \n",
              "1733      Financial Services        1.873520e+10  4.428692e+09   130.574753   \n",
              "551        Consumer Cyclical        6.415303e+09  8.716979e+09 -1740.911185   \n",
              "1202  Communication Services        1.881430e+11  2.860200e+10   811.914344   \n",
              "184        Consumer Cyclical        1.615800e+11  1.472670e+11  7368.477622   \n",
              "1963       Consumer Cyclical        4.944453e+09  1.605060e+09   428.354107   \n",
              "\n",
              "                 cluster  \n",
              "1035  heavily_underrated  \n",
              "1701           overrated  \n",
              "1083           overrated  \n",
              "1806  heavily_underrated  \n",
              "387   heavily_underrated  \n",
              "1733           overrated  \n",
              "551   heavily_underrated  \n",
              "1202           overrated  \n",
              "184            overrated  \n",
              "1963           overrated  "
            ],
            "text/html": [
              "\n",
              "  <div id=\"df-be695d2c-dcf0-488b-b36d-8af72d707c3a\">\n",
              "    <div class=\"colab-df-container\">\n",
              "      <div>\n",
              "<style scoped>\n",
              "    .dataframe tbody tr th:only-of-type {\n",
              "        vertical-align: middle;\n",
              "    }\n",
              "\n",
              "    .dataframe tbody tr th {\n",
              "        vertical-align: top;\n",
              "    }\n",
              "\n",
              "    .dataframe thead th {\n",
              "        text-align: right;\n",
              "    }\n",
              "</style>\n",
              "<table border=\"1\" class=\"dataframe\">\n",
              "  <thead>\n",
              "    <tr style=\"text-align: right;\">\n",
              "      <th></th>\n",
              "      <th>NCAV</th>\n",
              "      <th>Name</th>\n",
              "      <th>P/E</th>\n",
              "      <th>Ticker</th>\n",
              "      <th>currentPrice</th>\n",
              "      <th>earnings</th>\n",
              "      <th>floatShares</th>\n",
              "      <th>marketCap</th>\n",
              "      <th>revenue</th>\n",
              "      <th>sector</th>\n",
              "      <th>totalCurrentAssets</th>\n",
              "      <th>totalDebt</th>\n",
              "      <th>ration</th>\n",
              "      <th>cluster</th>\n",
              "    </tr>\n",
              "  </thead>\n",
              "  <tbody>\n",
              "    <tr>\n",
              "      <th>1035</th>\n",
              "      <td>-151.487667</td>\n",
              "      <td>First Citizens Bancshares Inc</td>\n",
              "      <td>12.285856</td>\n",
              "      <td>FCNCA</td>\n",
              "      <td>693.83</td>\n",
              "      <td>547459000</td>\n",
              "      <td>12183038.0</td>\n",
              "      <td>6.726002e+09</td>\n",
              "      <td>1935171000</td>\n",
              "      <td>Financial Services</td>\n",
              "      <td>1.446420e+09</td>\n",
              "      <td>3.292000e+09</td>\n",
              "      <td>-458.010883</td>\n",
              "      <td>heavily_underrated</td>\n",
              "    </tr>\n",
              "    <tr>\n",
              "      <th>1701</th>\n",
              "      <td>90.400361</td>\n",
              "      <td>Mercadolibre Inc</td>\n",
              "      <td>491.506429</td>\n",
              "      <td>MELI</td>\n",
              "      <td>811.44</td>\n",
              "      <td>83304000</td>\n",
              "      <td>46375378.0</td>\n",
              "      <td>4.094445e+10</td>\n",
              "      <td>7069409000</td>\n",
              "      <td>Consumer Cyclical</td>\n",
              "      <td>8.174979e+09</td>\n",
              "      <td>3.982628e+09</td>\n",
              "      <td>897.607037</td>\n",
              "      <td>overrated</td>\n",
              "    </tr>\n",
              "    <tr>\n",
              "      <th>1083</th>\n",
              "      <td>1220.811107</td>\n",
              "      <td>Farmers &amp; Merchants Bancorp</td>\n",
              "      <td>11.284144</td>\n",
              "      <td>FMCB</td>\n",
              "      <td>947.95</td>\n",
              "      <td>66336000</td>\n",
              "      <td>589762.0</td>\n",
              "      <td>7.485450e+08</td>\n",
              "      <td>180082000</td>\n",
              "      <td>Financial Services</td>\n",
              "      <td>7.344310e+08</td>\n",
              "      <td>1.444300e+07</td>\n",
              "      <td>77.649195</td>\n",
              "      <td>overrated</td>\n",
              "    </tr>\n",
              "    <tr>\n",
              "      <th>1806</th>\n",
              "      <td>-26.998093</td>\n",
              "      <td>Mettler Toledo International Inc</td>\n",
              "      <td>39.124133</td>\n",
              "      <td>MTD</td>\n",
              "      <td>1326.52</td>\n",
              "      <td>768985000.0</td>\n",
              "      <td>22325131.0</td>\n",
              "      <td>3.008587e+10</td>\n",
              "      <td>3717930000.0</td>\n",
              "      <td>Healthcare</td>\n",
              "      <td>1.269358e+09</td>\n",
              "      <td>1.872094e+09</td>\n",
              "      <td>-4913.384157</td>\n",
              "      <td>heavily_underrated</td>\n",
              "    </tr>\n",
              "    <tr>\n",
              "      <th>387</th>\n",
              "      <td>-78.285705</td>\n",
              "      <td>Chipotle Mexican Grill Inc</td>\n",
              "      <td>60.426670</td>\n",
              "      <td>CMG</td>\n",
              "      <td>1402.42</td>\n",
              "      <td>652984000.0</td>\n",
              "      <td>27758043.0</td>\n",
              "      <td>3.945765e+10</td>\n",
              "      <td>7547061000.0</td>\n",
              "      <td>Consumer Cyclical</td>\n",
              "      <td>1.381564e+09</td>\n",
              "      <td>3.554622e+09</td>\n",
              "      <td>-1791.412633</td>\n",
              "      <td>heavily_underrated</td>\n",
              "    </tr>\n",
              "    <tr>\n",
              "      <th>1733</th>\n",
              "      <td>1075.177223</td>\n",
              "      <td>Markel Corp</td>\n",
              "      <td>7.912948</td>\n",
              "      <td>MKL</td>\n",
              "      <td>1403.91</td>\n",
              "      <td>2425003000</td>\n",
              "      <td>13306185.0</td>\n",
              "      <td>1.918892e+10</td>\n",
              "      <td>12846425000</td>\n",
              "      <td>Financial Services</td>\n",
              "      <td>1.873520e+10</td>\n",
              "      <td>4.428692e+09</td>\n",
              "      <td>130.574753</td>\n",
              "      <td>overrated</td>\n",
              "    </tr>\n",
              "    <tr>\n",
              "      <th>551</th>\n",
              "      <td>-118.064036</td>\n",
              "      <td>Autozone Inc</td>\n",
              "      <td>18.539396</td>\n",
              "      <td>AZO</td>\n",
              "      <td>2055.39</td>\n",
              "      <td>2170314000</td>\n",
              "      <td>19495151.0</td>\n",
              "      <td>4.023631e+10</td>\n",
              "      <td>14629585000</td>\n",
              "      <td>Consumer Cyclical</td>\n",
              "      <td>6.415303e+09</td>\n",
              "      <td>8.716979e+09</td>\n",
              "      <td>-1740.911185</td>\n",
              "      <td>heavily_underrated</td>\n",
              "    </tr>\n",
              "    <tr>\n",
              "      <th>1202</th>\n",
              "      <td>277.859360</td>\n",
              "      <td>Google Inc</td>\n",
              "      <td>19.693368</td>\n",
              "      <td>GOOG</td>\n",
              "      <td>2255.98</td>\n",
              "      <td>76033000000</td>\n",
              "      <td>574178968.0</td>\n",
              "      <td>1.497346e+12</td>\n",
              "      <td>257637000000</td>\n",
              "      <td>Communication Services</td>\n",
              "      <td>1.881430e+11</td>\n",
              "      <td>2.860200e+10</td>\n",
              "      <td>811.914344</td>\n",
              "      <td>overrated</td>\n",
              "    </tr>\n",
              "    <tr>\n",
              "      <th>184</th>\n",
              "      <td>31.253810</td>\n",
              "      <td>Amazon Com Inc</td>\n",
              "      <td>35.114092</td>\n",
              "      <td>AMZN</td>\n",
              "      <td>2302.93</td>\n",
              "      <td>33364000000</td>\n",
              "      <td>457960351.0</td>\n",
              "      <td>1.171547e+12</td>\n",
              "      <td>469822000000</td>\n",
              "      <td>Consumer Cyclical</td>\n",
              "      <td>1.615800e+11</td>\n",
              "      <td>1.472670e+11</td>\n",
              "      <td>7368.477622</td>\n",
              "      <td>overrated</td>\n",
              "    </tr>\n",
              "    <tr>\n",
              "      <th>1963</th>\n",
              "      <td>1043.006225</td>\n",
              "      <td>NVR Inc</td>\n",
              "      <td>11.884232</td>\n",
              "      <td>NVR</td>\n",
              "      <td>4467.76</td>\n",
              "      <td>1236719000.0</td>\n",
              "      <td>3201700.0</td>\n",
              "      <td>1.469746e+10</td>\n",
              "      <td>8966309000.0</td>\n",
              "      <td>Consumer Cyclical</td>\n",
              "      <td>4.944453e+09</td>\n",
              "      <td>1.605060e+09</td>\n",
              "      <td>428.354107</td>\n",
              "      <td>overrated</td>\n",
              "    </tr>\n",
              "  </tbody>\n",
              "</table>\n",
              "</div>\n",
              "      <button class=\"colab-df-convert\" onclick=\"convertToInteractive('df-be695d2c-dcf0-488b-b36d-8af72d707c3a')\"\n",
              "              title=\"Convert this dataframe to an interactive table.\"\n",
              "              style=\"display:none;\">\n",
              "        \n",
              "  <svg xmlns=\"http://www.w3.org/2000/svg\" height=\"24px\"viewBox=\"0 0 24 24\"\n",
              "       width=\"24px\">\n",
              "    <path d=\"M0 0h24v24H0V0z\" fill=\"none\"/>\n",
              "    <path d=\"M18.56 5.44l.94 2.06.94-2.06 2.06-.94-2.06-.94-.94-2.06-.94 2.06-2.06.94zm-11 1L8.5 8.5l.94-2.06 2.06-.94-2.06-.94L8.5 2.5l-.94 2.06-2.06.94zm10 10l.94 2.06.94-2.06 2.06-.94-2.06-.94-.94-2.06-.94 2.06-2.06.94z\"/><path d=\"M17.41 7.96l-1.37-1.37c-.4-.4-.92-.59-1.43-.59-.52 0-1.04.2-1.43.59L10.3 9.45l-7.72 7.72c-.78.78-.78 2.05 0 2.83L4 21.41c.39.39.9.59 1.41.59.51 0 1.02-.2 1.41-.59l7.78-7.78 2.81-2.81c.8-.78.8-2.07 0-2.86zM5.41 20L4 18.59l7.72-7.72 1.47 1.35L5.41 20z\"/>\n",
              "  </svg>\n",
              "      </button>\n",
              "      \n",
              "  <style>\n",
              "    .colab-df-container {\n",
              "      display:flex;\n",
              "      flex-wrap:wrap;\n",
              "      gap: 12px;\n",
              "    }\n",
              "\n",
              "    .colab-df-convert {\n",
              "      background-color: #E8F0FE;\n",
              "      border: none;\n",
              "      border-radius: 50%;\n",
              "      cursor: pointer;\n",
              "      display: none;\n",
              "      fill: #1967D2;\n",
              "      height: 32px;\n",
              "      padding: 0 0 0 0;\n",
              "      width: 32px;\n",
              "    }\n",
              "\n",
              "    .colab-df-convert:hover {\n",
              "      background-color: #E2EBFA;\n",
              "      box-shadow: 0px 1px 2px rgba(60, 64, 67, 0.3), 0px 1px 3px 1px rgba(60, 64, 67, 0.15);\n",
              "      fill: #174EA6;\n",
              "    }\n",
              "\n",
              "    [theme=dark] .colab-df-convert {\n",
              "      background-color: #3B4455;\n",
              "      fill: #D2E3FC;\n",
              "    }\n",
              "\n",
              "    [theme=dark] .colab-df-convert:hover {\n",
              "      background-color: #434B5C;\n",
              "      box-shadow: 0px 1px 3px 1px rgba(0, 0, 0, 0.15);\n",
              "      filter: drop-shadow(0px 1px 2px rgba(0, 0, 0, 0.3));\n",
              "      fill: #FFFFFF;\n",
              "    }\n",
              "  </style>\n",
              "\n",
              "      <script>\n",
              "        const buttonEl =\n",
              "          document.querySelector('#df-be695d2c-dcf0-488b-b36d-8af72d707c3a button.colab-df-convert');\n",
              "        buttonEl.style.display =\n",
              "          google.colab.kernel.accessAllowed ? 'block' : 'none';\n",
              "\n",
              "        async function convertToInteractive(key) {\n",
              "          const element = document.querySelector('#df-be695d2c-dcf0-488b-b36d-8af72d707c3a');\n",
              "          const dataTable =\n",
              "            await google.colab.kernel.invokeFunction('convertToInteractive',\n",
              "                                                     [key], {});\n",
              "          if (!dataTable) return;\n",
              "\n",
              "          const docLinkHtml = 'Like what you see? Visit the ' +\n",
              "            '<a target=\"_blank\" href=https://colab.research.google.com/notebooks/data_table.ipynb>data table notebook</a>'\n",
              "            + ' to learn more about interactive tables.';\n",
              "          element.innerHTML = '';\n",
              "          dataTable['output_type'] = 'display_data';\n",
              "          await google.colab.output.renderOutput(dataTable, element);\n",
              "          const docLink = document.createElement('div');\n",
              "          docLink.innerHTML = docLinkHtml;\n",
              "          element.appendChild(docLink);\n",
              "        }\n",
              "      </script>\n",
              "    </div>\n",
              "  </div>\n",
              "  "
            ]
          },
          "metadata": {},
          "execution_count": 73
        }
      ]
    },
    {
      "cell_type": "code",
      "source": [
        "data.sort_values('NCAV').head(10)"
      ],
      "metadata": {
        "colab": {
          "base_uri": "https://localhost:8080/",
          "height": 618
        },
        "id": "zMTJYifhUrU8",
        "outputId": "9ef9d490-61e9-4e03-b33c-a5c0f7eb0c7e"
      },
      "execution_count": 74,
      "outputs": [
        {
          "output_type": "execute_result",
          "data": {
            "text/plain": [
              "             NCAV                                Name        P/E Ticker  \\\n",
              "84   -1386.452224  Federal Agricultural Mortgage Corp   8.423000    AGM   \n",
              "1986 -1184.233931                Ocwen Financial Corp  13.519095    OCN   \n",
              "348   -829.250716          Charter Communications Inc  20.981937   CHTR   \n",
              "259   -598.430150               Avis Budget Group Inc   7.552359    CAR   \n",
              "464   -370.850786         Cheniere Energy Partners LP  16.397494    CQP   \n",
              "72    -351.752893                  Aercap Holdings NV  12.029232    AER   \n",
              "1802  -232.401947                   Microstrategy Inc  -4.628667   MSTR   \n",
              "140   -223.412018                      Alexanders Inc   9.545288    ALX   \n",
              "1419  -211.148426                     Intergroup Corp  10.460361   INTG   \n",
              "113   -161.372238                      Air Lease Corp   9.961385     AL   \n",
              "\n",
              "      currentPrice      earnings  floatShares     marketCap        revenue  \\\n",
              "84          103.75     132260000    9803058.0  1.114026e+09      238008000   \n",
              "1986         26.42    18078000.0    7413258.0  2.443982e+08   1050099000.0   \n",
              "348         509.94  4654000000.0  110860324.0  9.764993e+10  51682000000.0   \n",
              "259         200.98  1285000000.0   28960774.0  9.704782e+09   9313000000.0   \n",
              "464          55.22  1630000000.0   40614716.0  2.672792e+10   9434000000.0   \n",
              "72           49.00    1000507000  121620496.0  1.203533e+10     4588930000   \n",
              "1802        219.39  -535480000.0    9328046.0  2.478558e+09    510762000.0   \n",
              "140         248.44     132930000    2122079.0  1.268855e+09      206148000   \n",
              "1419         49.51    10409000.0     695667.0  1.088819e+08     28658000.0   \n",
              "113          38.07     436632000  103413104.0  4.349459e+09     2088389000   \n",
              "\n",
              "                      sector  totalCurrentAssets     totalDebt      ration  \\\n",
              "84        Financial Services        1.044921e+10  2.404069e+10   -7.483128   \n",
              "1986      Financial Services        2.204634e+09  1.098367e+10   -2.230978   \n",
              "348   Communication Services        3.566000e+09  9.549700e+10  -61.494068   \n",
              "259              Industrials        1.936000e+09  1.926700e+10  -33.584538   \n",
              "464                   Energy        2.212000e+09  1.727400e+10  -14.890086   \n",
              "72               Industrials        6.322839e+09  4.910320e+10  -13.930234   \n",
              "1802              Technology        2.679650e+08  2.435821e+09  -94.401102   \n",
              "140              Real Estate        6.328920e+08  1.106990e+09 -111.202612   \n",
              "1419       Consumer Cyclical        5.207600e+07  1.989650e+08  -23.447961   \n",
              "113              Industrials        1.136721e+09  1.782472e+10  -23.591419   \n",
              "\n",
              "                 cluster  \n",
              "84    heavily_underrated  \n",
              "1986  heavily_underrated  \n",
              "348   heavily_underrated  \n",
              "259   heavily_underrated  \n",
              "464   heavily_underrated  \n",
              "72    heavily_underrated  \n",
              "1802  heavily_underrated  \n",
              "140   heavily_underrated  \n",
              "1419  heavily_underrated  \n",
              "113   heavily_underrated  "
            ],
            "text/html": [
              "\n",
              "  <div id=\"df-3b7d0326-4154-44d1-9ccc-3deceff6a6d2\">\n",
              "    <div class=\"colab-df-container\">\n",
              "      <div>\n",
              "<style scoped>\n",
              "    .dataframe tbody tr th:only-of-type {\n",
              "        vertical-align: middle;\n",
              "    }\n",
              "\n",
              "    .dataframe tbody tr th {\n",
              "        vertical-align: top;\n",
              "    }\n",
              "\n",
              "    .dataframe thead th {\n",
              "        text-align: right;\n",
              "    }\n",
              "</style>\n",
              "<table border=\"1\" class=\"dataframe\">\n",
              "  <thead>\n",
              "    <tr style=\"text-align: right;\">\n",
              "      <th></th>\n",
              "      <th>NCAV</th>\n",
              "      <th>Name</th>\n",
              "      <th>P/E</th>\n",
              "      <th>Ticker</th>\n",
              "      <th>currentPrice</th>\n",
              "      <th>earnings</th>\n",
              "      <th>floatShares</th>\n",
              "      <th>marketCap</th>\n",
              "      <th>revenue</th>\n",
              "      <th>sector</th>\n",
              "      <th>totalCurrentAssets</th>\n",
              "      <th>totalDebt</th>\n",
              "      <th>ration</th>\n",
              "      <th>cluster</th>\n",
              "    </tr>\n",
              "  </thead>\n",
              "  <tbody>\n",
              "    <tr>\n",
              "      <th>84</th>\n",
              "      <td>-1386.452224</td>\n",
              "      <td>Federal Agricultural Mortgage Corp</td>\n",
              "      <td>8.423000</td>\n",
              "      <td>AGM</td>\n",
              "      <td>103.75</td>\n",
              "      <td>132260000</td>\n",
              "      <td>9803058.0</td>\n",
              "      <td>1.114026e+09</td>\n",
              "      <td>238008000</td>\n",
              "      <td>Financial Services</td>\n",
              "      <td>1.044921e+10</td>\n",
              "      <td>2.404069e+10</td>\n",
              "      <td>-7.483128</td>\n",
              "      <td>heavily_underrated</td>\n",
              "    </tr>\n",
              "    <tr>\n",
              "      <th>1986</th>\n",
              "      <td>-1184.233931</td>\n",
              "      <td>Ocwen Financial Corp</td>\n",
              "      <td>13.519095</td>\n",
              "      <td>OCN</td>\n",
              "      <td>26.42</td>\n",
              "      <td>18078000.0</td>\n",
              "      <td>7413258.0</td>\n",
              "      <td>2.443982e+08</td>\n",
              "      <td>1050099000.0</td>\n",
              "      <td>Financial Services</td>\n",
              "      <td>2.204634e+09</td>\n",
              "      <td>1.098367e+10</td>\n",
              "      <td>-2.230978</td>\n",
              "      <td>heavily_underrated</td>\n",
              "    </tr>\n",
              "    <tr>\n",
              "      <th>348</th>\n",
              "      <td>-829.250716</td>\n",
              "      <td>Charter Communications Inc</td>\n",
              "      <td>20.981937</td>\n",
              "      <td>CHTR</td>\n",
              "      <td>509.94</td>\n",
              "      <td>4654000000.0</td>\n",
              "      <td>110860324.0</td>\n",
              "      <td>9.764993e+10</td>\n",
              "      <td>51682000000.0</td>\n",
              "      <td>Communication Services</td>\n",
              "      <td>3.566000e+09</td>\n",
              "      <td>9.549700e+10</td>\n",
              "      <td>-61.494068</td>\n",
              "      <td>heavily_underrated</td>\n",
              "    </tr>\n",
              "    <tr>\n",
              "      <th>259</th>\n",
              "      <td>-598.430150</td>\n",
              "      <td>Avis Budget Group Inc</td>\n",
              "      <td>7.552359</td>\n",
              "      <td>CAR</td>\n",
              "      <td>200.98</td>\n",
              "      <td>1285000000.0</td>\n",
              "      <td>28960774.0</td>\n",
              "      <td>9.704782e+09</td>\n",
              "      <td>9313000000.0</td>\n",
              "      <td>Industrials</td>\n",
              "      <td>1.936000e+09</td>\n",
              "      <td>1.926700e+10</td>\n",
              "      <td>-33.584538</td>\n",
              "      <td>heavily_underrated</td>\n",
              "    </tr>\n",
              "    <tr>\n",
              "      <th>464</th>\n",
              "      <td>-370.850786</td>\n",
              "      <td>Cheniere Energy Partners LP</td>\n",
              "      <td>16.397494</td>\n",
              "      <td>CQP</td>\n",
              "      <td>55.22</td>\n",
              "      <td>1630000000.0</td>\n",
              "      <td>40614716.0</td>\n",
              "      <td>2.672792e+10</td>\n",
              "      <td>9434000000.0</td>\n",
              "      <td>Energy</td>\n",
              "      <td>2.212000e+09</td>\n",
              "      <td>1.727400e+10</td>\n",
              "      <td>-14.890086</td>\n",
              "      <td>heavily_underrated</td>\n",
              "    </tr>\n",
              "    <tr>\n",
              "      <th>72</th>\n",
              "      <td>-351.752893</td>\n",
              "      <td>Aercap Holdings NV</td>\n",
              "      <td>12.029232</td>\n",
              "      <td>AER</td>\n",
              "      <td>49.00</td>\n",
              "      <td>1000507000</td>\n",
              "      <td>121620496.0</td>\n",
              "      <td>1.203533e+10</td>\n",
              "      <td>4588930000</td>\n",
              "      <td>Industrials</td>\n",
              "      <td>6.322839e+09</td>\n",
              "      <td>4.910320e+10</td>\n",
              "      <td>-13.930234</td>\n",
              "      <td>heavily_underrated</td>\n",
              "    </tr>\n",
              "    <tr>\n",
              "      <th>1802</th>\n",
              "      <td>-232.401947</td>\n",
              "      <td>Microstrategy Inc</td>\n",
              "      <td>-4.628667</td>\n",
              "      <td>MSTR</td>\n",
              "      <td>219.39</td>\n",
              "      <td>-535480000.0</td>\n",
              "      <td>9328046.0</td>\n",
              "      <td>2.478558e+09</td>\n",
              "      <td>510762000.0</td>\n",
              "      <td>Technology</td>\n",
              "      <td>2.679650e+08</td>\n",
              "      <td>2.435821e+09</td>\n",
              "      <td>-94.401102</td>\n",
              "      <td>heavily_underrated</td>\n",
              "    </tr>\n",
              "    <tr>\n",
              "      <th>140</th>\n",
              "      <td>-223.412018</td>\n",
              "      <td>Alexanders Inc</td>\n",
              "      <td>9.545288</td>\n",
              "      <td>ALX</td>\n",
              "      <td>248.44</td>\n",
              "      <td>132930000</td>\n",
              "      <td>2122079.0</td>\n",
              "      <td>1.268855e+09</td>\n",
              "      <td>206148000</td>\n",
              "      <td>Real Estate</td>\n",
              "      <td>6.328920e+08</td>\n",
              "      <td>1.106990e+09</td>\n",
              "      <td>-111.202612</td>\n",
              "      <td>heavily_underrated</td>\n",
              "    </tr>\n",
              "    <tr>\n",
              "      <th>1419</th>\n",
              "      <td>-211.148426</td>\n",
              "      <td>Intergroup Corp</td>\n",
              "      <td>10.460361</td>\n",
              "      <td>INTG</td>\n",
              "      <td>49.51</td>\n",
              "      <td>10409000.0</td>\n",
              "      <td>695667.0</td>\n",
              "      <td>1.088819e+08</td>\n",
              "      <td>28658000.0</td>\n",
              "      <td>Consumer Cyclical</td>\n",
              "      <td>5.207600e+07</td>\n",
              "      <td>1.989650e+08</td>\n",
              "      <td>-23.447961</td>\n",
              "      <td>heavily_underrated</td>\n",
              "    </tr>\n",
              "    <tr>\n",
              "      <th>113</th>\n",
              "      <td>-161.372238</td>\n",
              "      <td>Air Lease Corp</td>\n",
              "      <td>9.961385</td>\n",
              "      <td>AL</td>\n",
              "      <td>38.07</td>\n",
              "      <td>436632000</td>\n",
              "      <td>103413104.0</td>\n",
              "      <td>4.349459e+09</td>\n",
              "      <td>2088389000</td>\n",
              "      <td>Industrials</td>\n",
              "      <td>1.136721e+09</td>\n",
              "      <td>1.782472e+10</td>\n",
              "      <td>-23.591419</td>\n",
              "      <td>heavily_underrated</td>\n",
              "    </tr>\n",
              "  </tbody>\n",
              "</table>\n",
              "</div>\n",
              "      <button class=\"colab-df-convert\" onclick=\"convertToInteractive('df-3b7d0326-4154-44d1-9ccc-3deceff6a6d2')\"\n",
              "              title=\"Convert this dataframe to an interactive table.\"\n",
              "              style=\"display:none;\">\n",
              "        \n",
              "  <svg xmlns=\"http://www.w3.org/2000/svg\" height=\"24px\"viewBox=\"0 0 24 24\"\n",
              "       width=\"24px\">\n",
              "    <path d=\"M0 0h24v24H0V0z\" fill=\"none\"/>\n",
              "    <path d=\"M18.56 5.44l.94 2.06.94-2.06 2.06-.94-2.06-.94-.94-2.06-.94 2.06-2.06.94zm-11 1L8.5 8.5l.94-2.06 2.06-.94-2.06-.94L8.5 2.5l-.94 2.06-2.06.94zm10 10l.94 2.06.94-2.06 2.06-.94-2.06-.94-.94-2.06-.94 2.06-2.06.94z\"/><path d=\"M17.41 7.96l-1.37-1.37c-.4-.4-.92-.59-1.43-.59-.52 0-1.04.2-1.43.59L10.3 9.45l-7.72 7.72c-.78.78-.78 2.05 0 2.83L4 21.41c.39.39.9.59 1.41.59.51 0 1.02-.2 1.41-.59l7.78-7.78 2.81-2.81c.8-.78.8-2.07 0-2.86zM5.41 20L4 18.59l7.72-7.72 1.47 1.35L5.41 20z\"/>\n",
              "  </svg>\n",
              "      </button>\n",
              "      \n",
              "  <style>\n",
              "    .colab-df-container {\n",
              "      display:flex;\n",
              "      flex-wrap:wrap;\n",
              "      gap: 12px;\n",
              "    }\n",
              "\n",
              "    .colab-df-convert {\n",
              "      background-color: #E8F0FE;\n",
              "      border: none;\n",
              "      border-radius: 50%;\n",
              "      cursor: pointer;\n",
              "      display: none;\n",
              "      fill: #1967D2;\n",
              "      height: 32px;\n",
              "      padding: 0 0 0 0;\n",
              "      width: 32px;\n",
              "    }\n",
              "\n",
              "    .colab-df-convert:hover {\n",
              "      background-color: #E2EBFA;\n",
              "      box-shadow: 0px 1px 2px rgba(60, 64, 67, 0.3), 0px 1px 3px 1px rgba(60, 64, 67, 0.15);\n",
              "      fill: #174EA6;\n",
              "    }\n",
              "\n",
              "    [theme=dark] .colab-df-convert {\n",
              "      background-color: #3B4455;\n",
              "      fill: #D2E3FC;\n",
              "    }\n",
              "\n",
              "    [theme=dark] .colab-df-convert:hover {\n",
              "      background-color: #434B5C;\n",
              "      box-shadow: 0px 1px 3px 1px rgba(0, 0, 0, 0.15);\n",
              "      filter: drop-shadow(0px 1px 2px rgba(0, 0, 0, 0.3));\n",
              "      fill: #FFFFFF;\n",
              "    }\n",
              "  </style>\n",
              "\n",
              "      <script>\n",
              "        const buttonEl =\n",
              "          document.querySelector('#df-3b7d0326-4154-44d1-9ccc-3deceff6a6d2 button.colab-df-convert');\n",
              "        buttonEl.style.display =\n",
              "          google.colab.kernel.accessAllowed ? 'block' : 'none';\n",
              "\n",
              "        async function convertToInteractive(key) {\n",
              "          const element = document.querySelector('#df-3b7d0326-4154-44d1-9ccc-3deceff6a6d2');\n",
              "          const dataTable =\n",
              "            await google.colab.kernel.invokeFunction('convertToInteractive',\n",
              "                                                     [key], {});\n",
              "          if (!dataTable) return;\n",
              "\n",
              "          const docLinkHtml = 'Like what you see? Visit the ' +\n",
              "            '<a target=\"_blank\" href=https://colab.research.google.com/notebooks/data_table.ipynb>data table notebook</a>'\n",
              "            + ' to learn more about interactive tables.';\n",
              "          element.innerHTML = '';\n",
              "          dataTable['output_type'] = 'display_data';\n",
              "          await google.colab.output.renderOutput(dataTable, element);\n",
              "          const docLink = document.createElement('div');\n",
              "          docLink.innerHTML = docLinkHtml;\n",
              "          element.appendChild(docLink);\n",
              "        }\n",
              "      </script>\n",
              "    </div>\n",
              "  </div>\n",
              "  "
            ]
          },
          "metadata": {},
          "execution_count": 74
        }
      ]
    },
    {
      "cell_type": "code",
      "source": [
        ""
      ],
      "metadata": {
        "id": "ESCYzZuzVXs3"
      },
      "execution_count": null,
      "outputs": []
    }
  ]
}